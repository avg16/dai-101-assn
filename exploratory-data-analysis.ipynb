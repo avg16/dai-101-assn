{
 "cells": [
  {
   "cell_type": "markdown",
   "id": "6f981343",
   "metadata": {
    "papermill": {
     "duration": 0.010303,
     "end_time": "2023-07-06T10:56:02.145542",
     "exception": false,
     "start_time": "2023-07-06T10:56:02.135239",
     "status": "completed"
    },
    "tags": []
   },
   "source": [
    "# Introduction\n",
    "\n",
    "This dataset consists of 28 columns and 5735 rows. Among 28 columns, I isolated some columns which are related to my analysis.\n",
    "\n",
    "Describtion of the columns:\n",
    "\n",
    "SMQ020 = Smoking (Yes or No)\n",
    "\n",
    "DMDMARTL = Martial statues\n",
    "\n",
    "RIAGENDR = Gender (Male Or Female)\n",
    "\n",
    "RIDAGEYR = Age (years)\n",
    "\n",
    "DMDEDUC2 = Education level\n",
    "\n",
    "BMXWT = Weight (kg)\n",
    "\n",
    "BMXHT = Height (cm)\n",
    "\n",
    "BMXBMI = BMI\n",
    "\n",
    "DMDEDUC2 = Education Level"
   ]
  },
  {
   "cell_type": "code",
   "execution_count": 1,
   "id": "717c7cf5",
   "metadata": {
    "execution": {
     "iopub.execute_input": "2023-07-06T10:56:02.189541Z",
     "iopub.status.busy": "2023-07-06T10:56:02.188829Z",
     "iopub.status.idle": "2023-07-06T10:56:03.429352Z",
     "shell.execute_reply": "2023-07-06T10:56:03.428449Z"
    },
    "papermill": {
     "duration": 1.254786,
     "end_time": "2023-07-06T10:56:03.431614",
     "exception": false,
     "start_time": "2023-07-06T10:56:02.176828",
     "status": "completed"
    },
    "tags": []
   },
   "outputs": [],
   "source": [
    "import matplotlib.pyplot as plt\n",
    "import seaborn as sns\n",
    "import pandas as pd\n",
    "import numpy as np\n",
    "import scipy.stats.distributions as dist\n",
    "\n",
    "\n",
    "import warnings\n",
    "warnings.filterwarnings(\"ignore\")"
   ]
  },
  {
   "cell_type": "code",
   "execution_count": null,
   "id": "29bddaed",
   "metadata": {
    "execution": {
     "iopub.execute_input": "2023-07-06T10:56:03.455162Z",
     "iopub.status.busy": "2023-07-06T10:56:03.454803Z",
     "iopub.status.idle": "2023-07-06T10:56:03.529861Z",
     "shell.execute_reply": "2023-07-06T10:56:03.529209Z"
    },
    "papermill": {
     "duration": 0.089013,
     "end_time": "2023-07-06T10:56:03.531955",
     "exception": false,
     "start_time": "2023-07-06T10:56:03.442942",
     "status": "completed"
    },
    "tags": []
   },
   "outputs": [
    {
     "data": {
      "text/html": [
       "<div>\n",
       "<style scoped>\n",
       "    .dataframe tbody tr th:only-of-type {\n",
       "        vertical-align: middle;\n",
       "    }\n",
       "\n",
       "    .dataframe tbody tr th {\n",
       "        vertical-align: top;\n",
       "    }\n",
       "\n",
       "    .dataframe thead th {\n",
       "        text-align: right;\n",
       "    }\n",
       "</style>\n",
       "<table border=\"1\" class=\"dataframe\">\n",
       "  <thead>\n",
       "    <tr style=\"text-align: right;\">\n",
       "      <th></th>\n",
       "      <th>SEQN</th>\n",
       "      <th>ALQ101</th>\n",
       "      <th>ALQ110</th>\n",
       "      <th>ALQ130</th>\n",
       "      <th>SMQ020</th>\n",
       "      <th>RIAGENDR</th>\n",
       "      <th>RIDAGEYR</th>\n",
       "      <th>RIDRETH1</th>\n",
       "      <th>DMDCITZN</th>\n",
       "      <th>DMDEDUC2</th>\n",
       "      <th>...</th>\n",
       "      <th>BPXSY2</th>\n",
       "      <th>BPXDI2</th>\n",
       "      <th>BMXWT</th>\n",
       "      <th>BMXHT</th>\n",
       "      <th>BMXBMI</th>\n",
       "      <th>BMXLEG</th>\n",
       "      <th>BMXARML</th>\n",
       "      <th>BMXARMC</th>\n",
       "      <th>BMXWAIST</th>\n",
       "      <th>HIQ210</th>\n",
       "    </tr>\n",
       "  </thead>\n",
       "  <tbody>\n",
       "    <tr>\n",
       "      <th>0</th>\n",
       "      <td>83732</td>\n",
       "      <td>1.0</td>\n",
       "      <td>NaN</td>\n",
       "      <td>1.0</td>\n",
       "      <td>1</td>\n",
       "      <td>1</td>\n",
       "      <td>62</td>\n",
       "      <td>3</td>\n",
       "      <td>1.0</td>\n",
       "      <td>5.0</td>\n",
       "      <td>...</td>\n",
       "      <td>124.0</td>\n",
       "      <td>64.0</td>\n",
       "      <td>94.8</td>\n",
       "      <td>184.5</td>\n",
       "      <td>27.8</td>\n",
       "      <td>43.3</td>\n",
       "      <td>43.6</td>\n",
       "      <td>35.9</td>\n",
       "      <td>101.1</td>\n",
       "      <td>2.0</td>\n",
       "    </tr>\n",
       "    <tr>\n",
       "      <th>1</th>\n",
       "      <td>83733</td>\n",
       "      <td>1.0</td>\n",
       "      <td>NaN</td>\n",
       "      <td>6.0</td>\n",
       "      <td>1</td>\n",
       "      <td>1</td>\n",
       "      <td>53</td>\n",
       "      <td>3</td>\n",
       "      <td>2.0</td>\n",
       "      <td>3.0</td>\n",
       "      <td>...</td>\n",
       "      <td>140.0</td>\n",
       "      <td>88.0</td>\n",
       "      <td>90.4</td>\n",
       "      <td>171.4</td>\n",
       "      <td>30.8</td>\n",
       "      <td>38.0</td>\n",
       "      <td>40.0</td>\n",
       "      <td>33.2</td>\n",
       "      <td>107.9</td>\n",
       "      <td>NaN</td>\n",
       "    </tr>\n",
       "    <tr>\n",
       "      <th>2</th>\n",
       "      <td>83734</td>\n",
       "      <td>1.0</td>\n",
       "      <td>NaN</td>\n",
       "      <td>NaN</td>\n",
       "      <td>1</td>\n",
       "      <td>1</td>\n",
       "      <td>78</td>\n",
       "      <td>3</td>\n",
       "      <td>1.0</td>\n",
       "      <td>3.0</td>\n",
       "      <td>...</td>\n",
       "      <td>132.0</td>\n",
       "      <td>44.0</td>\n",
       "      <td>83.4</td>\n",
       "      <td>170.1</td>\n",
       "      <td>28.8</td>\n",
       "      <td>35.6</td>\n",
       "      <td>37.0</td>\n",
       "      <td>31.0</td>\n",
       "      <td>116.5</td>\n",
       "      <td>2.0</td>\n",
       "    </tr>\n",
       "    <tr>\n",
       "      <th>3</th>\n",
       "      <td>83735</td>\n",
       "      <td>2.0</td>\n",
       "      <td>1.0</td>\n",
       "      <td>1.0</td>\n",
       "      <td>2</td>\n",
       "      <td>2</td>\n",
       "      <td>56</td>\n",
       "      <td>3</td>\n",
       "      <td>1.0</td>\n",
       "      <td>5.0</td>\n",
       "      <td>...</td>\n",
       "      <td>134.0</td>\n",
       "      <td>68.0</td>\n",
       "      <td>109.8</td>\n",
       "      <td>160.9</td>\n",
       "      <td>42.4</td>\n",
       "      <td>38.5</td>\n",
       "      <td>37.7</td>\n",
       "      <td>38.3</td>\n",
       "      <td>110.1</td>\n",
       "      <td>2.0</td>\n",
       "    </tr>\n",
       "    <tr>\n",
       "      <th>4</th>\n",
       "      <td>83736</td>\n",
       "      <td>2.0</td>\n",
       "      <td>1.0</td>\n",
       "      <td>1.0</td>\n",
       "      <td>2</td>\n",
       "      <td>2</td>\n",
       "      <td>42</td>\n",
       "      <td>4</td>\n",
       "      <td>1.0</td>\n",
       "      <td>4.0</td>\n",
       "      <td>...</td>\n",
       "      <td>114.0</td>\n",
       "      <td>54.0</td>\n",
       "      <td>55.2</td>\n",
       "      <td>164.9</td>\n",
       "      <td>20.3</td>\n",
       "      <td>37.4</td>\n",
       "      <td>36.0</td>\n",
       "      <td>27.2</td>\n",
       "      <td>80.4</td>\n",
       "      <td>2.0</td>\n",
       "    </tr>\n",
       "  </tbody>\n",
       "</table>\n",
       "<p>5 rows × 28 columns</p>\n",
       "</div>"
      ],
      "text/plain": [
       "    SEQN  ALQ101  ALQ110  ALQ130  SMQ020  RIAGENDR  RIDAGEYR  RIDRETH1  \\\n",
       "0  83732     1.0     NaN     1.0       1         1        62         3   \n",
       "1  83733     1.0     NaN     6.0       1         1        53         3   \n",
       "2  83734     1.0     NaN     NaN       1         1        78         3   \n",
       "3  83735     2.0     1.0     1.0       2         2        56         3   \n",
       "4  83736     2.0     1.0     1.0       2         2        42         4   \n",
       "\n",
       "   DMDCITZN  DMDEDUC2  ...  BPXSY2  BPXDI2  BMXWT  BMXHT  BMXBMI  BMXLEG  \\\n",
       "0       1.0       5.0  ...   124.0    64.0   94.8  184.5    27.8    43.3   \n",
       "1       2.0       3.0  ...   140.0    88.0   90.4  171.4    30.8    38.0   \n",
       "2       1.0       3.0  ...   132.0    44.0   83.4  170.1    28.8    35.6   \n",
       "3       1.0       5.0  ...   134.0    68.0  109.8  160.9    42.4    38.5   \n",
       "4       1.0       4.0  ...   114.0    54.0   55.2  164.9    20.3    37.4   \n",
       "\n",
       "   BMXARML  BMXARMC  BMXWAIST  HIQ210  \n",
       "0     43.6     35.9     101.1     2.0  \n",
       "1     40.0     33.2     107.9     NaN  \n",
       "2     37.0     31.0     116.5     2.0  \n",
       "3     37.7     38.3     110.1     2.0  \n",
       "4     36.0     27.2      80.4     2.0  \n",
       "\n",
       "[5 rows x 28 columns]"
      ]
     },
     "execution_count": 3,
     "metadata": {},
     "output_type": "execute_result"
    }
   ],
   "source": [
    "df = pd.read_csv(\"dataset.csv\")\n",
    "df.head()"
   ]
  },
  {
   "cell_type": "code",
   "execution_count": 4,
   "id": "d77bb15d",
   "metadata": {
    "execution": {
     "iopub.execute_input": "2023-07-06T10:56:03.556627Z",
     "iopub.status.busy": "2023-07-06T10:56:03.556089Z",
     "iopub.status.idle": "2023-07-06T10:56:03.561116Z",
     "shell.execute_reply": "2023-07-06T10:56:03.559919Z"
    },
    "papermill": {
     "duration": 0.019644,
     "end_time": "2023-07-06T10:56:03.563015",
     "exception": false,
     "start_time": "2023-07-06T10:56:03.543371",
     "status": "completed"
    },
    "tags": []
   },
   "outputs": [
    {
     "name": "stdout",
     "output_type": "stream",
     "text": [
      "(5735, 28) \n",
      "we have 5735 participents\n"
     ]
    }
   ],
   "source": [
    "num= df.shape\n",
    "print(num ,'\\n' f'we have {num[0]} participents')"
   ]
  },
  {
   "cell_type": "code",
   "execution_count": 7,
   "id": "6c2a732f",
   "metadata": {
    "execution": {
     "iopub.execute_input": "2023-07-06T10:56:03.587027Z",
     "iopub.status.busy": "2023-07-06T10:56:03.586664Z",
     "iopub.status.idle": "2023-07-06T10:56:03.604892Z",
     "shell.execute_reply": "2023-07-06T10:56:03.603787Z"
    },
    "papermill": {
     "duration": 0.032473,
     "end_time": "2023-07-06T10:56:03.606872",
     "exception": false,
     "start_time": "2023-07-06T10:56:03.574399",
     "status": "completed"
    },
    "tags": []
   },
   "outputs": [
    {
     "data": {
      "text/html": [
       "<pre style=\"white-space:pre;overflow-x:auto;line-height:normal;font-family:Menlo,'DejaVu Sans Mono',consolas,'Courier New',monospace\">╭──────────────────────────────────────────────── skimpy summary ─────────────────────────────────────────────────╮\n",
       "│ <span style=\"font-style: italic\">         Data Summary         </span> <span style=\"font-style: italic\">      Data Types       </span>                                                          │\n",
       "│ ┏━━━━━━━━━━━━━━━━━━━┳━━━━━━━━┓ ┏━━━━━━━━━━━━━┳━━━━━━━┓                                                          │\n",
       "│ ┃<span style=\"color: #008080; text-decoration-color: #008080; font-weight: bold\"> dataframe         </span>┃<span style=\"color: #008080; text-decoration-color: #008080; font-weight: bold\"> Values </span>┃ ┃<span style=\"color: #008080; text-decoration-color: #008080; font-weight: bold\"> Column Type </span>┃<span style=\"color: #008080; text-decoration-color: #008080; font-weight: bold\"> Count </span>┃                                                          │\n",
       "│ ┡━━━━━━━━━━━━━━━━━━━╇━━━━━━━━┩ ┡━━━━━━━━━━━━━╇━━━━━━━┩                                                          │\n",
       "│ │ Number of rows    │ 5735   │ │ float64     │ 20    │                                                          │\n",
       "│ │ Number of columns │ 28     │ │ int64       │ 8     │                                                          │\n",
       "│ └───────────────────┴────────┘ └─────────────┴───────┘                                                          │\n",
       "│ <span style=\"font-style: italic\">                                                    number                                                    </span>  │\n",
       "│ ┏━━━━━━━━━━━━━━━┳━━━━━━━┳━━━━━━━━━┳━━━━━━━━┳━━━━━━━━━━┳━━━━━━━━┳━━━━━━━━┳━━━━━━━━┳━━━━━━━━┳━━━━━━━━━┳━━━━━━━━┓  │\n",
       "│ ┃<span style=\"font-weight: bold\"> column_name   </span>┃<span style=\"font-weight: bold\"> NA    </span>┃<span style=\"font-weight: bold\"> NA %    </span>┃<span style=\"font-weight: bold\"> mean   </span>┃<span style=\"font-weight: bold\"> sd       </span>┃<span style=\"font-weight: bold\"> p0     </span>┃<span style=\"font-weight: bold\"> p25    </span>┃<span style=\"font-weight: bold\"> p50    </span>┃<span style=\"font-weight: bold\"> p75    </span>┃<span style=\"font-weight: bold\"> p100    </span>┃<span style=\"font-weight: bold\"> hist   </span>┃  │\n",
       "│ ┡━━━━━━━━━━━━━━━╇━━━━━━━╇━━━━━━━━━╇━━━━━━━━╇━━━━━━━━━━╇━━━━━━━━╇━━━━━━━━╇━━━━━━━━╇━━━━━━━━╇━━━━━━━━━╇━━━━━━━━┩  │\n",
       "│ │ <span style=\"color: #af87ff; text-decoration-color: #af87ff\">SEQN         </span> │ <span style=\"color: #008080; text-decoration-color: #008080\">    0</span> │ <span style=\"color: #008080; text-decoration-color: #008080\">      0</span> │ <span style=\"color: #008080; text-decoration-color: #008080\"> 88680</span> │ <span style=\"color: #008080; text-decoration-color: #008080\">    2882</span> │ <span style=\"color: #008080; text-decoration-color: #008080\"> 83730</span> │ <span style=\"color: #008080; text-decoration-color: #008080\"> 86160</span> │ <span style=\"color: #008080; text-decoration-color: #008080\"> 88670</span> │ <span style=\"color: #008080; text-decoration-color: #008080\"> 91180</span> │ <span style=\"color: #008080; text-decoration-color: #008080\">  93700</span> │ <span style=\"color: #008000; text-decoration-color: #008000\">▇▇▇▇▇▇</span> │  │\n",
       "│ │ <span style=\"color: #af87ff; text-decoration-color: #af87ff\">ALQ101       </span> │ <span style=\"color: #008080; text-decoration-color: #008080\">  527</span> │ <span style=\"color: #008080; text-decoration-color: #008080\">   9.19</span> │ <span style=\"color: #008080; text-decoration-color: #008080\"> 1.336</span> │ <span style=\"color: #008080; text-decoration-color: #008080\">  0.5055</span> │ <span style=\"color: #008080; text-decoration-color: #008080\">     1</span> │ <span style=\"color: #008080; text-decoration-color: #008080\">     1</span> │ <span style=\"color: #008080; text-decoration-color: #008080\">     1</span> │ <span style=\"color: #008080; text-decoration-color: #008080\">     2</span> │ <span style=\"color: #008080; text-decoration-color: #008080\">      9</span> │ <span style=\"color: #008000; text-decoration-color: #008000\">  ▇   </span> │  │\n",
       "│ │ <span style=\"color: #af87ff; text-decoration-color: #af87ff\">ALQ110       </span> │ <span style=\"color: #008080; text-decoration-color: #008080\"> 4004</span> │ <span style=\"color: #008080; text-decoration-color: #008080\">  69.82</span> │ <span style=\"color: #008080; text-decoration-color: #008080\"> 1.588</span> │ <span style=\"color: #008080; text-decoration-color: #008080\">  0.6239</span> │ <span style=\"color: #008080; text-decoration-color: #008080\">     1</span> │ <span style=\"color: #008080; text-decoration-color: #008080\">     1</span> │ <span style=\"color: #008080; text-decoration-color: #008080\">     2</span> │ <span style=\"color: #008080; text-decoration-color: #008080\">     2</span> │ <span style=\"color: #008080; text-decoration-color: #008080\">      9</span> │ <span style=\"color: #008000; text-decoration-color: #008000\">  ▇   </span> │  │\n",
       "│ │ <span style=\"color: #af87ff; text-decoration-color: #af87ff\">ALQ130       </span> │ <span style=\"color: #008080; text-decoration-color: #008080\"> 2356</span> │ <span style=\"color: #008080; text-decoration-color: #008080\">  41.08</span> │ <span style=\"color: #008080; text-decoration-color: #008080\"> 3.912</span> │ <span style=\"color: #008080; text-decoration-color: #008080\">   34.34</span> │ <span style=\"color: #008080; text-decoration-color: #008080\">     1</span> │ <span style=\"color: #008080; text-decoration-color: #008080\">     1</span> │ <span style=\"color: #008080; text-decoration-color: #008080\">     2</span> │ <span style=\"color: #008080; text-decoration-color: #008080\">     3</span> │ <span style=\"color: #008080; text-decoration-color: #008080\">    999</span> │ <span style=\"color: #008000; text-decoration-color: #008000\">  ▇   </span> │  │\n",
       "│ │ <span style=\"color: #af87ff; text-decoration-color: #af87ff\">SMQ020       </span> │ <span style=\"color: #008080; text-decoration-color: #008080\">    0</span> │ <span style=\"color: #008080; text-decoration-color: #008080\">      0</span> │ <span style=\"color: #008080; text-decoration-color: #008080\"> 1.607</span> │ <span style=\"color: #008080; text-decoration-color: #008080\">   0.572</span> │ <span style=\"color: #008080; text-decoration-color: #008080\">     1</span> │ <span style=\"color: #008080; text-decoration-color: #008080\">     1</span> │ <span style=\"color: #008080; text-decoration-color: #008080\">     2</span> │ <span style=\"color: #008080; text-decoration-color: #008080\">     2</span> │ <span style=\"color: #008080; text-decoration-color: #008080\">      9</span> │ <span style=\"color: #008000; text-decoration-color: #008000\">  ▇   </span> │  │\n",
       "│ │ <span style=\"color: #af87ff; text-decoration-color: #af87ff\">RIAGENDR     </span> │ <span style=\"color: #008080; text-decoration-color: #008080\">    0</span> │ <span style=\"color: #008080; text-decoration-color: #008080\">      0</span> │ <span style=\"color: #008080; text-decoration-color: #008080\"> 1.519</span> │ <span style=\"color: #008080; text-decoration-color: #008080\">  0.4997</span> │ <span style=\"color: #008080; text-decoration-color: #008080\">     1</span> │ <span style=\"color: #008080; text-decoration-color: #008080\">     1</span> │ <span style=\"color: #008080; text-decoration-color: #008080\">     2</span> │ <span style=\"color: #008080; text-decoration-color: #008080\">     2</span> │ <span style=\"color: #008080; text-decoration-color: #008080\">      2</span> │ <span style=\"color: #008000; text-decoration-color: #008000\">▇    ▇</span> │  │\n",
       "│ │ <span style=\"color: #af87ff; text-decoration-color: #af87ff\">RIDAGEYR     </span> │ <span style=\"color: #008080; text-decoration-color: #008080\">    0</span> │ <span style=\"color: #008080; text-decoration-color: #008080\">      0</span> │ <span style=\"color: #008080; text-decoration-color: #008080\"> 48.05</span> │ <span style=\"color: #008080; text-decoration-color: #008080\">   18.43</span> │ <span style=\"color: #008080; text-decoration-color: #008080\">    18</span> │ <span style=\"color: #008080; text-decoration-color: #008080\">    32</span> │ <span style=\"color: #008080; text-decoration-color: #008080\">    48</span> │ <span style=\"color: #008080; text-decoration-color: #008080\">    63</span> │ <span style=\"color: #008080; text-decoration-color: #008080\">     80</span> │ <span style=\"color: #008000; text-decoration-color: #008000\">▇▇▇▇▇▇</span> │  │\n",
       "│ │ <span style=\"color: #af87ff; text-decoration-color: #af87ff\">RIDRETH1     </span> │ <span style=\"color: #008080; text-decoration-color: #008080\">    0</span> │ <span style=\"color: #008080; text-decoration-color: #008080\">      0</span> │ <span style=\"color: #008080; text-decoration-color: #008080\"> 3.042</span> │ <span style=\"color: #008080; text-decoration-color: #008080\">   1.297</span> │ <span style=\"color: #008080; text-decoration-color: #008080\">     1</span> │ <span style=\"color: #008080; text-decoration-color: #008080\">     2</span> │ <span style=\"color: #008080; text-decoration-color: #008080\">     3</span> │ <span style=\"color: #008080; text-decoration-color: #008080\">     4</span> │ <span style=\"color: #008080; text-decoration-color: #008080\">      5</span> │ <span style=\"color: #008000; text-decoration-color: #008000\">▅▃ ▇▅▃</span> │  │\n",
       "│ │ <span style=\"color: #af87ff; text-decoration-color: #af87ff\">DMDCITZN     </span> │ <span style=\"color: #008080; text-decoration-color: #008080\">    1</span> │ <span style=\"color: #008080; text-decoration-color: #008080\">   0.02</span> │ <span style=\"color: #008080; text-decoration-color: #008080\"> 1.185</span> │ <span style=\"color: #008080; text-decoration-color: #008080\">  0.4917</span> │ <span style=\"color: #008080; text-decoration-color: #008080\">     1</span> │ <span style=\"color: #008080; text-decoration-color: #008080\">     1</span> │ <span style=\"color: #008080; text-decoration-color: #008080\">     1</span> │ <span style=\"color: #008080; text-decoration-color: #008080\">     1</span> │ <span style=\"color: #008080; text-decoration-color: #008080\">      9</span> │ <span style=\"color: #008000; text-decoration-color: #008000\">  ▇   </span> │  │\n",
       "│ │ <span style=\"color: #af87ff; text-decoration-color: #af87ff\">DMDEDUC2     </span> │ <span style=\"color: #008080; text-decoration-color: #008080\">  261</span> │ <span style=\"color: #008080; text-decoration-color: #008080\">   4.55</span> │ <span style=\"color: #008080; text-decoration-color: #008080\"> 3.442</span> │ <span style=\"color: #008080; text-decoration-color: #008080\">    1.31</span> │ <span style=\"color: #008080; text-decoration-color: #008080\">     1</span> │ <span style=\"color: #008080; text-decoration-color: #008080\">     3</span> │ <span style=\"color: #008080; text-decoration-color: #008080\">     4</span> │ <span style=\"color: #008080; text-decoration-color: #008080\">  4.75</span> │ <span style=\"color: #008080; text-decoration-color: #008080\">      9</span> │ <span style=\"color: #008000; text-decoration-color: #008000\"> ▆▆▇▇ </span> │  │\n",
       "│ │ <span style=\"color: #af87ff; text-decoration-color: #af87ff\">DMDMARTL     </span> │ <span style=\"color: #008080; text-decoration-color: #008080\">  261</span> │ <span style=\"color: #008080; text-decoration-color: #008080\">   4.55</span> │ <span style=\"color: #008080; text-decoration-color: #008080\"> 2.629</span> │ <span style=\"color: #008080; text-decoration-color: #008080\">   2.367</span> │ <span style=\"color: #008080; text-decoration-color: #008080\">     1</span> │ <span style=\"color: #008080; text-decoration-color: #008080\">     1</span> │ <span style=\"color: #008080; text-decoration-color: #008080\">     1</span> │ <span style=\"color: #008080; text-decoration-color: #008080\">     5</span> │ <span style=\"color: #008080; text-decoration-color: #008080\">     77</span> │ <span style=\"color: #008000; text-decoration-color: #008000\">  ▇   </span> │  │\n",
       "│ │ <span style=\"color: #af87ff; text-decoration-color: #af87ff\">DMDHHSIZ     </span> │ <span style=\"color: #008080; text-decoration-color: #008080\">    0</span> │ <span style=\"color: #008080; text-decoration-color: #008080\">      0</span> │ <span style=\"color: #008080; text-decoration-color: #008080\"> 3.324</span> │ <span style=\"color: #008080; text-decoration-color: #008080\">   1.725</span> │ <span style=\"color: #008080; text-decoration-color: #008080\">     1</span> │ <span style=\"color: #008080; text-decoration-color: #008080\">     2</span> │ <span style=\"color: #008080; text-decoration-color: #008080\">     3</span> │ <span style=\"color: #008080; text-decoration-color: #008080\">     5</span> │ <span style=\"color: #008080; text-decoration-color: #008080\">      7</span> │ <span style=\"color: #008000; text-decoration-color: #008000\">▃▇▅▅▃▃</span> │  │\n",
       "│ │ <span style=\"color: #af87ff; text-decoration-color: #af87ff\">WTINT2YR     </span> │ <span style=\"color: #008080; text-decoration-color: #008080\">    0</span> │ <span style=\"color: #008080; text-decoration-color: #008080\">      0</span> │ <span style=\"color: #008080; text-decoration-color: #008080\"> 40310</span> │ <span style=\"color: #008080; text-decoration-color: #008080\">   38770</span> │ <span style=\"color: #008080; text-decoration-color: #008080\">  5331</span> │ <span style=\"color: #008080; text-decoration-color: #008080\"> 17160</span> │ <span style=\"color: #008080; text-decoration-color: #008080\"> 24650</span> │ <span style=\"color: #008080; text-decoration-color: #008080\"> 42860</span> │ <span style=\"color: #008080; text-decoration-color: #008080\"> 233800</span> │ <span style=\"color: #008000; text-decoration-color: #008000\"> ▇▁▁▁ </span> │  │\n",
       "│ │ <span style=\"color: #af87ff; text-decoration-color: #af87ff\">SDMVPSU      </span> │ <span style=\"color: #008080; text-decoration-color: #008080\">    0</span> │ <span style=\"color: #008080; text-decoration-color: #008080\">      0</span> │ <span style=\"color: #008080; text-decoration-color: #008080\"> 1.488</span> │ <span style=\"color: #008080; text-decoration-color: #008080\">  0.4999</span> │ <span style=\"color: #008080; text-decoration-color: #008080\">     1</span> │ <span style=\"color: #008080; text-decoration-color: #008080\">     1</span> │ <span style=\"color: #008080; text-decoration-color: #008080\">     1</span> │ <span style=\"color: #008080; text-decoration-color: #008080\">     2</span> │ <span style=\"color: #008080; text-decoration-color: #008080\">      2</span> │ <span style=\"color: #008000; text-decoration-color: #008000\">▇    ▇</span> │  │\n",
       "│ │ <span style=\"color: #af87ff; text-decoration-color: #af87ff\">SDMVSTRA     </span> │ <span style=\"color: #008080; text-decoration-color: #008080\">    0</span> │ <span style=\"color: #008080; text-decoration-color: #008080\">      0</span> │ <span style=\"color: #008080; text-decoration-color: #008080\"> 126.2</span> │ <span style=\"color: #008080; text-decoration-color: #008080\">   4.244</span> │ <span style=\"color: #008080; text-decoration-color: #008080\">   119</span> │ <span style=\"color: #008080; text-decoration-color: #008080\">   123</span> │ <span style=\"color: #008080; text-decoration-color: #008080\">   126</span> │ <span style=\"color: #008080; text-decoration-color: #008080\">   130</span> │ <span style=\"color: #008080; text-decoration-color: #008080\">    133</span> │ <span style=\"color: #008000; text-decoration-color: #008000\">▇▅▅▇▅▇</span> │  │\n",
       "│ │ <span style=\"color: #af87ff; text-decoration-color: #af87ff\">INDFMPIR     </span> │ <span style=\"color: #008080; text-decoration-color: #008080\">  601</span> │ <span style=\"color: #008080; text-decoration-color: #008080\">  10.48</span> │ <span style=\"color: #008080; text-decoration-color: #008080\"> 2.403</span> │ <span style=\"color: #008080; text-decoration-color: #008080\">   1.602</span> │ <span style=\"color: #008080; text-decoration-color: #008080\">     0</span> │ <span style=\"color: #008080; text-decoration-color: #008080\">  1.06</span> │ <span style=\"color: #008080; text-decoration-color: #008080\">  1.98</span> │ <span style=\"color: #008080; text-decoration-color: #008080\">  3.74</span> │ <span style=\"color: #008080; text-decoration-color: #008080\">      5</span> │ <span style=\"color: #008000; text-decoration-color: #008000\">▅▇▅▃▂▇</span> │  │\n",
       "│ │ <span style=\"color: #af87ff; text-decoration-color: #af87ff\">BPXSY1       </span> │ <span style=\"color: #008080; text-decoration-color: #008080\">  334</span> │ <span style=\"color: #008080; text-decoration-color: #008080\">   5.82</span> │ <span style=\"color: #008080; text-decoration-color: #008080\"> 125.1</span> │ <span style=\"color: #008080; text-decoration-color: #008080\">   18.48</span> │ <span style=\"color: #008080; text-decoration-color: #008080\">    82</span> │ <span style=\"color: #008080; text-decoration-color: #008080\">   112</span> │ <span style=\"color: #008080; text-decoration-color: #008080\">   122</span> │ <span style=\"color: #008080; text-decoration-color: #008080\">   134</span> │ <span style=\"color: #008080; text-decoration-color: #008080\">    236</span> │ <span style=\"color: #008000; text-decoration-color: #008000\"> ▂▇▃▁ </span> │  │\n",
       "│ │ <span style=\"color: #af87ff; text-decoration-color: #af87ff\">BPXDI1       </span> │ <span style=\"color: #008080; text-decoration-color: #008080\">  334</span> │ <span style=\"color: #008080; text-decoration-color: #008080\">   5.82</span> │ <span style=\"color: #008080; text-decoration-color: #008080\"> 69.52</span> │ <span style=\"color: #008080; text-decoration-color: #008080\">   12.88</span> │ <span style=\"color: #008080; text-decoration-color: #008080\">     0</span> │ <span style=\"color: #008080; text-decoration-color: #008080\">    62</span> │ <span style=\"color: #008080; text-decoration-color: #008080\">    70</span> │ <span style=\"color: #008080; text-decoration-color: #008080\">    78</span> │ <span style=\"color: #008080; text-decoration-color: #008080\">    120</span> │ <span style=\"color: #008000; text-decoration-color: #008000\">  ▂▇▃ </span> │  │\n",
       "│ │ <span style=\"color: #af87ff; text-decoration-color: #af87ff\">BPXSY2       </span> │ <span style=\"color: #008080; text-decoration-color: #008080\">  200</span> │ <span style=\"color: #008080; text-decoration-color: #008080\">   3.49</span> │ <span style=\"color: #008080; text-decoration-color: #008080\"> 124.8</span> │ <span style=\"color: #008080; text-decoration-color: #008080\">   18.53</span> │ <span style=\"color: #008080; text-decoration-color: #008080\">    84</span> │ <span style=\"color: #008080; text-decoration-color: #008080\">   112</span> │ <span style=\"color: #008080; text-decoration-color: #008080\">   122</span> │ <span style=\"color: #008080; text-decoration-color: #008080\">   134</span> │ <span style=\"color: #008080; text-decoration-color: #008080\">    238</span> │ <span style=\"color: #008000; text-decoration-color: #008000\"> ▃▇▃▁ </span> │  │\n",
       "│ │ <span style=\"color: #af87ff; text-decoration-color: #af87ff\">BPXDI2       </span> │ <span style=\"color: #008080; text-decoration-color: #008080\">  200</span> │ <span style=\"color: #008080; text-decoration-color: #008080\">   3.49</span> │ <span style=\"color: #008080; text-decoration-color: #008080\"> 69.35</span> │ <span style=\"color: #008080; text-decoration-color: #008080\">   13.02</span> │ <span style=\"color: #008080; text-decoration-color: #008080\">     0</span> │ <span style=\"color: #008080; text-decoration-color: #008080\">    62</span> │ <span style=\"color: #008080; text-decoration-color: #008080\">    70</span> │ <span style=\"color: #008080; text-decoration-color: #008080\">    78</span> │ <span style=\"color: #008080; text-decoration-color: #008080\">    144</span> │ <span style=\"color: #008000; text-decoration-color: #008000\">   ▇▇ </span> │  │\n",
       "│ │ <span style=\"color: #af87ff; text-decoration-color: #af87ff\">BMXWT        </span> │ <span style=\"color: #008080; text-decoration-color: #008080\">   69</span> │ <span style=\"color: #008080; text-decoration-color: #008080\">    1.2</span> │ <span style=\"color: #008080; text-decoration-color: #008080\"> 81.34</span> │ <span style=\"color: #008080; text-decoration-color: #008080\">   21.76</span> │ <span style=\"color: #008080; text-decoration-color: #008080\">  32.4</span> │ <span style=\"color: #008080; text-decoration-color: #008080\">  65.9</span> │ <span style=\"color: #008080; text-decoration-color: #008080\">  78.2</span> │ <span style=\"color: #008080; text-decoration-color: #008080\">  92.7</span> │ <span style=\"color: #008080; text-decoration-color: #008080\">  198.9</span> │ <span style=\"color: #008000; text-decoration-color: #008000\"> ▂▇▃▁ </span> │  │\n",
       "│ │ <span style=\"color: #af87ff; text-decoration-color: #af87ff\">BMXHT        </span> │ <span style=\"color: #008080; text-decoration-color: #008080\">   62</span> │ <span style=\"color: #008080; text-decoration-color: #008080\">   1.08</span> │ <span style=\"color: #008080; text-decoration-color: #008080\"> 166.1</span> │ <span style=\"color: #008080; text-decoration-color: #008080\">   10.08</span> │ <span style=\"color: #008080; text-decoration-color: #008080\"> 129.7</span> │ <span style=\"color: #008080; text-decoration-color: #008080\"> 158.7</span> │ <span style=\"color: #008080; text-decoration-color: #008080\">   166</span> │ <span style=\"color: #008080; text-decoration-color: #008080\"> 173.5</span> │ <span style=\"color: #008080; text-decoration-color: #008080\">  202.7</span> │ <span style=\"color: #008000; text-decoration-color: #008000\"> ▂▇▇▂ </span> │  │\n",
       "│ │ <span style=\"color: #af87ff; text-decoration-color: #af87ff\">BMXBMI       </span> │ <span style=\"color: #008080; text-decoration-color: #008080\">   73</span> │ <span style=\"color: #008080; text-decoration-color: #008080\">   1.27</span> │ <span style=\"color: #008080; text-decoration-color: #008080\"> 29.38</span> │ <span style=\"color: #008080; text-decoration-color: #008080\">   7.096</span> │ <span style=\"color: #008080; text-decoration-color: #008080\">  14.5</span> │ <span style=\"color: #008080; text-decoration-color: #008080\">  24.3</span> │ <span style=\"color: #008080; text-decoration-color: #008080\">  28.3</span> │ <span style=\"color: #008080; text-decoration-color: #008080\">    33</span> │ <span style=\"color: #008080; text-decoration-color: #008080\">   67.3</span> │ <span style=\"color: #008000; text-decoration-color: #008000\"> ▃▇▃▁ </span> │  │\n",
       "│ │ <span style=\"color: #af87ff; text-decoration-color: #af87ff\">BMXLEG       </span> │ <span style=\"color: #008080; text-decoration-color: #008080\">  390</span> │ <span style=\"color: #008080; text-decoration-color: #008080\">    6.8</span> │ <span style=\"color: #008080; text-decoration-color: #008080\"> 38.58</span> │ <span style=\"color: #008080; text-decoration-color: #008080\">   3.873</span> │ <span style=\"color: #008080; text-decoration-color: #008080\">    26</span> │ <span style=\"color: #008080; text-decoration-color: #008080\">    36</span> │ <span style=\"color: #008080; text-decoration-color: #008080\">  38.6</span> │ <span style=\"color: #008080; text-decoration-color: #008080\">  41.2</span> │ <span style=\"color: #008080; text-decoration-color: #008080\">   51.5</span> │ <span style=\"color: #008000; text-decoration-color: #008000\"> ▃▇▇▃ </span> │  │\n",
       "│ │ <span style=\"color: #af87ff; text-decoration-color: #af87ff\">BMXARML      </span> │ <span style=\"color: #008080; text-decoration-color: #008080\">  308</span> │ <span style=\"color: #008080; text-decoration-color: #008080\">   5.37</span> │ <span style=\"color: #008080; text-decoration-color: #008080\"> 37.15</span> │ <span style=\"color: #008080; text-decoration-color: #008080\">   2.801</span> │ <span style=\"color: #008080; text-decoration-color: #008080\">  28.2</span> │ <span style=\"color: #008080; text-decoration-color: #008080\">  35.2</span> │ <span style=\"color: #008080; text-decoration-color: #008080\">  37.1</span> │ <span style=\"color: #008080; text-decoration-color: #008080\">    39</span> │ <span style=\"color: #008080; text-decoration-color: #008080\">   47.4</span> │ <span style=\"color: #008000; text-decoration-color: #008000\"> ▃▇▇▂ </span> │  │\n",
       "│ │ <span style=\"color: #af87ff; text-decoration-color: #af87ff\">BMXARMC      </span> │ <span style=\"color: #008080; text-decoration-color: #008080\">  308</span> │ <span style=\"color: #008080; text-decoration-color: #008080\">   5.37</span> │ <span style=\"color: #008080; text-decoration-color: #008080\"> 33.11</span> │ <span style=\"color: #008080; text-decoration-color: #008080\">   5.268</span> │ <span style=\"color: #008080; text-decoration-color: #008080\">  17.1</span> │ <span style=\"color: #008080; text-decoration-color: #008080\">  29.5</span> │ <span style=\"color: #008080; text-decoration-color: #008080\">  32.7</span> │ <span style=\"color: #008080; text-decoration-color: #008080\">  36.2</span> │ <span style=\"color: #008080; text-decoration-color: #008080\">   58.4</span> │ <span style=\"color: #008000; text-decoration-color: #008000\">  ▆▇▂ </span> │  │\n",
       "│ │ <span style=\"color: #af87ff; text-decoration-color: #af87ff\">BMXWAIST     </span> │ <span style=\"color: #008080; text-decoration-color: #008080\">  367</span> │ <span style=\"color: #008080; text-decoration-color: #008080\">    6.4</span> │ <span style=\"color: #008080; text-decoration-color: #008080\"> 99.57</span> │ <span style=\"color: #008080; text-decoration-color: #008080\">   16.84</span> │ <span style=\"color: #008080; text-decoration-color: #008080\">  58.7</span> │ <span style=\"color: #008080; text-decoration-color: #008080\">  87.6</span> │ <span style=\"color: #008080; text-decoration-color: #008080\">  98.3</span> │ <span style=\"color: #008080; text-decoration-color: #008080\"> 109.3</span> │ <span style=\"color: #008080; text-decoration-color: #008080\">  171.6</span> │ <span style=\"color: #008000; text-decoration-color: #008000\">▂▇▇▃▁ </span> │  │\n",
       "│ │ <span style=\"color: #af87ff; text-decoration-color: #af87ff\">HIQ210       </span> │ <span style=\"color: #008080; text-decoration-color: #008080\"> 1003</span> │ <span style=\"color: #008080; text-decoration-color: #008080\">  17.49</span> │ <span style=\"color: #008080; text-decoration-color: #008080\"> 1.915</span> │ <span style=\"color: #008080; text-decoration-color: #008080\">  0.4148</span> │ <span style=\"color: #008080; text-decoration-color: #008080\">     1</span> │ <span style=\"color: #008080; text-decoration-color: #008080\">     2</span> │ <span style=\"color: #008080; text-decoration-color: #008080\">     2</span> │ <span style=\"color: #008080; text-decoration-color: #008080\">     2</span> │ <span style=\"color: #008080; text-decoration-color: #008080\">      9</span> │ <span style=\"color: #008000; text-decoration-color: #008000\">  ▇   </span> │  │\n",
       "│ └───────────────┴───────┴─────────┴────────┴──────────┴────────┴────────┴────────┴────────┴─────────┴────────┘  │\n",
       "╰────────────────────────────────────────────────────── End ──────────────────────────────────────────────────────╯\n",
       "</pre>\n"
      ],
      "text/plain": [
       "╭──────────────────────────────────────────────── skimpy summary ─────────────────────────────────────────────────╮\n",
       "│ \u001b[3m         Data Summary         \u001b[0m \u001b[3m      Data Types       \u001b[0m                                                          │\n",
       "│ ┏━━━━━━━━━━━━━━━━━━━┳━━━━━━━━┓ ┏━━━━━━━━━━━━━┳━━━━━━━┓                                                          │\n",
       "│ ┃\u001b[1;36m \u001b[0m\u001b[1;36mdataframe        \u001b[0m\u001b[1;36m \u001b[0m┃\u001b[1;36m \u001b[0m\u001b[1;36mValues\u001b[0m\u001b[1;36m \u001b[0m┃ ┃\u001b[1;36m \u001b[0m\u001b[1;36mColumn Type\u001b[0m\u001b[1;36m \u001b[0m┃\u001b[1;36m \u001b[0m\u001b[1;36mCount\u001b[0m\u001b[1;36m \u001b[0m┃                                                          │\n",
       "│ ┡━━━━━━━━━━━━━━━━━━━╇━━━━━━━━┩ ┡━━━━━━━━━━━━━╇━━━━━━━┩                                                          │\n",
       "│ │ Number of rows    │ 5735   │ │ float64     │ 20    │                                                          │\n",
       "│ │ Number of columns │ 28     │ │ int64       │ 8     │                                                          │\n",
       "│ └───────────────────┴────────┘ └─────────────┴───────┘                                                          │\n",
       "│ \u001b[3m                                                    number                                                    \u001b[0m  │\n",
       "│ ┏━━━━━━━━━━━━━━━┳━━━━━━━┳━━━━━━━━━┳━━━━━━━━┳━━━━━━━━━━┳━━━━━━━━┳━━━━━━━━┳━━━━━━━━┳━━━━━━━━┳━━━━━━━━━┳━━━━━━━━┓  │\n",
       "│ ┃\u001b[1m \u001b[0m\u001b[1mcolumn_name  \u001b[0m\u001b[1m \u001b[0m┃\u001b[1m \u001b[0m\u001b[1mNA   \u001b[0m\u001b[1m \u001b[0m┃\u001b[1m \u001b[0m\u001b[1mNA %   \u001b[0m\u001b[1m \u001b[0m┃\u001b[1m \u001b[0m\u001b[1mmean  \u001b[0m\u001b[1m \u001b[0m┃\u001b[1m \u001b[0m\u001b[1msd      \u001b[0m\u001b[1m \u001b[0m┃\u001b[1m \u001b[0m\u001b[1mp0    \u001b[0m\u001b[1m \u001b[0m┃\u001b[1m \u001b[0m\u001b[1mp25   \u001b[0m\u001b[1m \u001b[0m┃\u001b[1m \u001b[0m\u001b[1mp50   \u001b[0m\u001b[1m \u001b[0m┃\u001b[1m \u001b[0m\u001b[1mp75   \u001b[0m\u001b[1m \u001b[0m┃\u001b[1m \u001b[0m\u001b[1mp100   \u001b[0m\u001b[1m \u001b[0m┃\u001b[1m \u001b[0m\u001b[1mhist  \u001b[0m\u001b[1m \u001b[0m┃  │\n",
       "│ ┡━━━━━━━━━━━━━━━╇━━━━━━━╇━━━━━━━━━╇━━━━━━━━╇━━━━━━━━━━╇━━━━━━━━╇━━━━━━━━╇━━━━━━━━╇━━━━━━━━╇━━━━━━━━━╇━━━━━━━━┩  │\n",
       "│ │ \u001b[38;5;141mSEQN         \u001b[0m │ \u001b[36m    0\u001b[0m │ \u001b[36m      0\u001b[0m │ \u001b[36m 88680\u001b[0m │ \u001b[36m    2882\u001b[0m │ \u001b[36m 83730\u001b[0m │ \u001b[36m 86160\u001b[0m │ \u001b[36m 88670\u001b[0m │ \u001b[36m 91180\u001b[0m │ \u001b[36m  93700\u001b[0m │ \u001b[32m▇▇▇▇▇▇\u001b[0m │  │\n",
       "│ │ \u001b[38;5;141mALQ101       \u001b[0m │ \u001b[36m  527\u001b[0m │ \u001b[36m   9.19\u001b[0m │ \u001b[36m 1.336\u001b[0m │ \u001b[36m  0.5055\u001b[0m │ \u001b[36m     1\u001b[0m │ \u001b[36m     1\u001b[0m │ \u001b[36m     1\u001b[0m │ \u001b[36m     2\u001b[0m │ \u001b[36m      9\u001b[0m │ \u001b[32m  ▇   \u001b[0m │  │\n",
       "│ │ \u001b[38;5;141mALQ110       \u001b[0m │ \u001b[36m 4004\u001b[0m │ \u001b[36m  69.82\u001b[0m │ \u001b[36m 1.588\u001b[0m │ \u001b[36m  0.6239\u001b[0m │ \u001b[36m     1\u001b[0m │ \u001b[36m     1\u001b[0m │ \u001b[36m     2\u001b[0m │ \u001b[36m     2\u001b[0m │ \u001b[36m      9\u001b[0m │ \u001b[32m  ▇   \u001b[0m │  │\n",
       "│ │ \u001b[38;5;141mALQ130       \u001b[0m │ \u001b[36m 2356\u001b[0m │ \u001b[36m  41.08\u001b[0m │ \u001b[36m 3.912\u001b[0m │ \u001b[36m   34.34\u001b[0m │ \u001b[36m     1\u001b[0m │ \u001b[36m     1\u001b[0m │ \u001b[36m     2\u001b[0m │ \u001b[36m     3\u001b[0m │ \u001b[36m    999\u001b[0m │ \u001b[32m  ▇   \u001b[0m │  │\n",
       "│ │ \u001b[38;5;141mSMQ020       \u001b[0m │ \u001b[36m    0\u001b[0m │ \u001b[36m      0\u001b[0m │ \u001b[36m 1.607\u001b[0m │ \u001b[36m   0.572\u001b[0m │ \u001b[36m     1\u001b[0m │ \u001b[36m     1\u001b[0m │ \u001b[36m     2\u001b[0m │ \u001b[36m     2\u001b[0m │ \u001b[36m      9\u001b[0m │ \u001b[32m  ▇   \u001b[0m │  │\n",
       "│ │ \u001b[38;5;141mRIAGENDR     \u001b[0m │ \u001b[36m    0\u001b[0m │ \u001b[36m      0\u001b[0m │ \u001b[36m 1.519\u001b[0m │ \u001b[36m  0.4997\u001b[0m │ \u001b[36m     1\u001b[0m │ \u001b[36m     1\u001b[0m │ \u001b[36m     2\u001b[0m │ \u001b[36m     2\u001b[0m │ \u001b[36m      2\u001b[0m │ \u001b[32m▇    ▇\u001b[0m │  │\n",
       "│ │ \u001b[38;5;141mRIDAGEYR     \u001b[0m │ \u001b[36m    0\u001b[0m │ \u001b[36m      0\u001b[0m │ \u001b[36m 48.05\u001b[0m │ \u001b[36m   18.43\u001b[0m │ \u001b[36m    18\u001b[0m │ \u001b[36m    32\u001b[0m │ \u001b[36m    48\u001b[0m │ \u001b[36m    63\u001b[0m │ \u001b[36m     80\u001b[0m │ \u001b[32m▇▇▇▇▇▇\u001b[0m │  │\n",
       "│ │ \u001b[38;5;141mRIDRETH1     \u001b[0m │ \u001b[36m    0\u001b[0m │ \u001b[36m      0\u001b[0m │ \u001b[36m 3.042\u001b[0m │ \u001b[36m   1.297\u001b[0m │ \u001b[36m     1\u001b[0m │ \u001b[36m     2\u001b[0m │ \u001b[36m     3\u001b[0m │ \u001b[36m     4\u001b[0m │ \u001b[36m      5\u001b[0m │ \u001b[32m▅▃ ▇▅▃\u001b[0m │  │\n",
       "│ │ \u001b[38;5;141mDMDCITZN     \u001b[0m │ \u001b[36m    1\u001b[0m │ \u001b[36m   0.02\u001b[0m │ \u001b[36m 1.185\u001b[0m │ \u001b[36m  0.4917\u001b[0m │ \u001b[36m     1\u001b[0m │ \u001b[36m     1\u001b[0m │ \u001b[36m     1\u001b[0m │ \u001b[36m     1\u001b[0m │ \u001b[36m      9\u001b[0m │ \u001b[32m  ▇   \u001b[0m │  │\n",
       "│ │ \u001b[38;5;141mDMDEDUC2     \u001b[0m │ \u001b[36m  261\u001b[0m │ \u001b[36m   4.55\u001b[0m │ \u001b[36m 3.442\u001b[0m │ \u001b[36m    1.31\u001b[0m │ \u001b[36m     1\u001b[0m │ \u001b[36m     3\u001b[0m │ \u001b[36m     4\u001b[0m │ \u001b[36m  4.75\u001b[0m │ \u001b[36m      9\u001b[0m │ \u001b[32m ▆▆▇▇ \u001b[0m │  │\n",
       "│ │ \u001b[38;5;141mDMDMARTL     \u001b[0m │ \u001b[36m  261\u001b[0m │ \u001b[36m   4.55\u001b[0m │ \u001b[36m 2.629\u001b[0m │ \u001b[36m   2.367\u001b[0m │ \u001b[36m     1\u001b[0m │ \u001b[36m     1\u001b[0m │ \u001b[36m     1\u001b[0m │ \u001b[36m     5\u001b[0m │ \u001b[36m     77\u001b[0m │ \u001b[32m  ▇   \u001b[0m │  │\n",
       "│ │ \u001b[38;5;141mDMDHHSIZ     \u001b[0m │ \u001b[36m    0\u001b[0m │ \u001b[36m      0\u001b[0m │ \u001b[36m 3.324\u001b[0m │ \u001b[36m   1.725\u001b[0m │ \u001b[36m     1\u001b[0m │ \u001b[36m     2\u001b[0m │ \u001b[36m     3\u001b[0m │ \u001b[36m     5\u001b[0m │ \u001b[36m      7\u001b[0m │ \u001b[32m▃▇▅▅▃▃\u001b[0m │  │\n",
       "│ │ \u001b[38;5;141mWTINT2YR     \u001b[0m │ \u001b[36m    0\u001b[0m │ \u001b[36m      0\u001b[0m │ \u001b[36m 40310\u001b[0m │ \u001b[36m   38770\u001b[0m │ \u001b[36m  5331\u001b[0m │ \u001b[36m 17160\u001b[0m │ \u001b[36m 24650\u001b[0m │ \u001b[36m 42860\u001b[0m │ \u001b[36m 233800\u001b[0m │ \u001b[32m ▇▁▁▁ \u001b[0m │  │\n",
       "│ │ \u001b[38;5;141mSDMVPSU      \u001b[0m │ \u001b[36m    0\u001b[0m │ \u001b[36m      0\u001b[0m │ \u001b[36m 1.488\u001b[0m │ \u001b[36m  0.4999\u001b[0m │ \u001b[36m     1\u001b[0m │ \u001b[36m     1\u001b[0m │ \u001b[36m     1\u001b[0m │ \u001b[36m     2\u001b[0m │ \u001b[36m      2\u001b[0m │ \u001b[32m▇    ▇\u001b[0m │  │\n",
       "│ │ \u001b[38;5;141mSDMVSTRA     \u001b[0m │ \u001b[36m    0\u001b[0m │ \u001b[36m      0\u001b[0m │ \u001b[36m 126.2\u001b[0m │ \u001b[36m   4.244\u001b[0m │ \u001b[36m   119\u001b[0m │ \u001b[36m   123\u001b[0m │ \u001b[36m   126\u001b[0m │ \u001b[36m   130\u001b[0m │ \u001b[36m    133\u001b[0m │ \u001b[32m▇▅▅▇▅▇\u001b[0m │  │\n",
       "│ │ \u001b[38;5;141mINDFMPIR     \u001b[0m │ \u001b[36m  601\u001b[0m │ \u001b[36m  10.48\u001b[0m │ \u001b[36m 2.403\u001b[0m │ \u001b[36m   1.602\u001b[0m │ \u001b[36m     0\u001b[0m │ \u001b[36m  1.06\u001b[0m │ \u001b[36m  1.98\u001b[0m │ \u001b[36m  3.74\u001b[0m │ \u001b[36m      5\u001b[0m │ \u001b[32m▅▇▅▃▂▇\u001b[0m │  │\n",
       "│ │ \u001b[38;5;141mBPXSY1       \u001b[0m │ \u001b[36m  334\u001b[0m │ \u001b[36m   5.82\u001b[0m │ \u001b[36m 125.1\u001b[0m │ \u001b[36m   18.48\u001b[0m │ \u001b[36m    82\u001b[0m │ \u001b[36m   112\u001b[0m │ \u001b[36m   122\u001b[0m │ \u001b[36m   134\u001b[0m │ \u001b[36m    236\u001b[0m │ \u001b[32m ▂▇▃▁ \u001b[0m │  │\n",
       "│ │ \u001b[38;5;141mBPXDI1       \u001b[0m │ \u001b[36m  334\u001b[0m │ \u001b[36m   5.82\u001b[0m │ \u001b[36m 69.52\u001b[0m │ \u001b[36m   12.88\u001b[0m │ \u001b[36m     0\u001b[0m │ \u001b[36m    62\u001b[0m │ \u001b[36m    70\u001b[0m │ \u001b[36m    78\u001b[0m │ \u001b[36m    120\u001b[0m │ \u001b[32m  ▂▇▃ \u001b[0m │  │\n",
       "│ │ \u001b[38;5;141mBPXSY2       \u001b[0m │ \u001b[36m  200\u001b[0m │ \u001b[36m   3.49\u001b[0m │ \u001b[36m 124.8\u001b[0m │ \u001b[36m   18.53\u001b[0m │ \u001b[36m    84\u001b[0m │ \u001b[36m   112\u001b[0m │ \u001b[36m   122\u001b[0m │ \u001b[36m   134\u001b[0m │ \u001b[36m    238\u001b[0m │ \u001b[32m ▃▇▃▁ \u001b[0m │  │\n",
       "│ │ \u001b[38;5;141mBPXDI2       \u001b[0m │ \u001b[36m  200\u001b[0m │ \u001b[36m   3.49\u001b[0m │ \u001b[36m 69.35\u001b[0m │ \u001b[36m   13.02\u001b[0m │ \u001b[36m     0\u001b[0m │ \u001b[36m    62\u001b[0m │ \u001b[36m    70\u001b[0m │ \u001b[36m    78\u001b[0m │ \u001b[36m    144\u001b[0m │ \u001b[32m   ▇▇ \u001b[0m │  │\n",
       "│ │ \u001b[38;5;141mBMXWT        \u001b[0m │ \u001b[36m   69\u001b[0m │ \u001b[36m    1.2\u001b[0m │ \u001b[36m 81.34\u001b[0m │ \u001b[36m   21.76\u001b[0m │ \u001b[36m  32.4\u001b[0m │ \u001b[36m  65.9\u001b[0m │ \u001b[36m  78.2\u001b[0m │ \u001b[36m  92.7\u001b[0m │ \u001b[36m  198.9\u001b[0m │ \u001b[32m ▂▇▃▁ \u001b[0m │  │\n",
       "│ │ \u001b[38;5;141mBMXHT        \u001b[0m │ \u001b[36m   62\u001b[0m │ \u001b[36m   1.08\u001b[0m │ \u001b[36m 166.1\u001b[0m │ \u001b[36m   10.08\u001b[0m │ \u001b[36m 129.7\u001b[0m │ \u001b[36m 158.7\u001b[0m │ \u001b[36m   166\u001b[0m │ \u001b[36m 173.5\u001b[0m │ \u001b[36m  202.7\u001b[0m │ \u001b[32m ▂▇▇▂ \u001b[0m │  │\n",
       "│ │ \u001b[38;5;141mBMXBMI       \u001b[0m │ \u001b[36m   73\u001b[0m │ \u001b[36m   1.27\u001b[0m │ \u001b[36m 29.38\u001b[0m │ \u001b[36m   7.096\u001b[0m │ \u001b[36m  14.5\u001b[0m │ \u001b[36m  24.3\u001b[0m │ \u001b[36m  28.3\u001b[0m │ \u001b[36m    33\u001b[0m │ \u001b[36m   67.3\u001b[0m │ \u001b[32m ▃▇▃▁ \u001b[0m │  │\n",
       "│ │ \u001b[38;5;141mBMXLEG       \u001b[0m │ \u001b[36m  390\u001b[0m │ \u001b[36m    6.8\u001b[0m │ \u001b[36m 38.58\u001b[0m │ \u001b[36m   3.873\u001b[0m │ \u001b[36m    26\u001b[0m │ \u001b[36m    36\u001b[0m │ \u001b[36m  38.6\u001b[0m │ \u001b[36m  41.2\u001b[0m │ \u001b[36m   51.5\u001b[0m │ \u001b[32m ▃▇▇▃ \u001b[0m │  │\n",
       "│ │ \u001b[38;5;141mBMXARML      \u001b[0m │ \u001b[36m  308\u001b[0m │ \u001b[36m   5.37\u001b[0m │ \u001b[36m 37.15\u001b[0m │ \u001b[36m   2.801\u001b[0m │ \u001b[36m  28.2\u001b[0m │ \u001b[36m  35.2\u001b[0m │ \u001b[36m  37.1\u001b[0m │ \u001b[36m    39\u001b[0m │ \u001b[36m   47.4\u001b[0m │ \u001b[32m ▃▇▇▂ \u001b[0m │  │\n",
       "│ │ \u001b[38;5;141mBMXARMC      \u001b[0m │ \u001b[36m  308\u001b[0m │ \u001b[36m   5.37\u001b[0m │ \u001b[36m 33.11\u001b[0m │ \u001b[36m   5.268\u001b[0m │ \u001b[36m  17.1\u001b[0m │ \u001b[36m  29.5\u001b[0m │ \u001b[36m  32.7\u001b[0m │ \u001b[36m  36.2\u001b[0m │ \u001b[36m   58.4\u001b[0m │ \u001b[32m  ▆▇▂ \u001b[0m │  │\n",
       "│ │ \u001b[38;5;141mBMXWAIST     \u001b[0m │ \u001b[36m  367\u001b[0m │ \u001b[36m    6.4\u001b[0m │ \u001b[36m 99.57\u001b[0m │ \u001b[36m   16.84\u001b[0m │ \u001b[36m  58.7\u001b[0m │ \u001b[36m  87.6\u001b[0m │ \u001b[36m  98.3\u001b[0m │ \u001b[36m 109.3\u001b[0m │ \u001b[36m  171.6\u001b[0m │ \u001b[32m▂▇▇▃▁ \u001b[0m │  │\n",
       "│ │ \u001b[38;5;141mHIQ210       \u001b[0m │ \u001b[36m 1003\u001b[0m │ \u001b[36m  17.49\u001b[0m │ \u001b[36m 1.915\u001b[0m │ \u001b[36m  0.4148\u001b[0m │ \u001b[36m     1\u001b[0m │ \u001b[36m     2\u001b[0m │ \u001b[36m     2\u001b[0m │ \u001b[36m     2\u001b[0m │ \u001b[36m      9\u001b[0m │ \u001b[32m  ▇   \u001b[0m │  │\n",
       "│ └───────────────┴───────┴─────────┴────────┴──────────┴────────┴────────┴────────┴────────┴─────────┴────────┘  │\n",
       "╰────────────────────────────────────────────────────── End ──────────────────────────────────────────────────────╯\n"
      ]
     },
     "metadata": {},
     "output_type": "display_data"
    }
   ],
   "source": [
    "import skimpy as skim\n",
    "skim.skim(df)"
   ]
  },
  {
   "cell_type": "code",
   "execution_count": 25,
   "id": "595ca529",
   "metadata": {
    "execution": {
     "iopub.execute_input": "2023-07-06T10:56:03.632522Z",
     "iopub.status.busy": "2023-07-06T10:56:03.632208Z",
     "iopub.status.idle": "2023-07-06T10:56:03.649931Z",
     "shell.execute_reply": "2023-07-06T10:56:03.648263Z"
    },
    "papermill": {
     "duration": 0.033668,
     "end_time": "2023-07-06T10:56:03.652335",
     "exception": false,
     "start_time": "2023-07-06T10:56:03.618667",
     "status": "completed"
    },
    "tags": []
   },
   "outputs": [
    {
     "data": {
      "text/html": [
       "<div>\n",
       "<style scoped>\n",
       "    .dataframe tbody tr th:only-of-type {\n",
       "        vertical-align: middle;\n",
       "    }\n",
       "\n",
       "    .dataframe tbody tr th {\n",
       "        vertical-align: top;\n",
       "    }\n",
       "\n",
       "    .dataframe thead th {\n",
       "        text-align: right;\n",
       "    }\n",
       "</style>\n",
       "<table border=\"1\" class=\"dataframe\">\n",
       "  <thead>\n",
       "    <tr style=\"text-align: right;\">\n",
       "      <th></th>\n",
       "      <th>SMQ020</th>\n",
       "      <th>RIAGENDR</th>\n",
       "      <th>RIDAGEYR</th>\n",
       "      <th>DMDMARTL</th>\n",
       "      <th>DMDEDUC2</th>\n",
       "      <th>BMXWT</th>\n",
       "      <th>BMXBMI</th>\n",
       "      <th>BMXHT</th>\n",
       "      <th>BPXSY1</th>\n",
       "    </tr>\n",
       "  </thead>\n",
       "  <tbody>\n",
       "    <tr>\n",
       "      <th>0</th>\n",
       "      <td>1</td>\n",
       "      <td>1</td>\n",
       "      <td>62</td>\n",
       "      <td>1.0</td>\n",
       "      <td>5.0</td>\n",
       "      <td>94.8</td>\n",
       "      <td>27.8</td>\n",
       "      <td>184.5</td>\n",
       "      <td>128.0</td>\n",
       "    </tr>\n",
       "    <tr>\n",
       "      <th>1</th>\n",
       "      <td>1</td>\n",
       "      <td>1</td>\n",
       "      <td>53</td>\n",
       "      <td>3.0</td>\n",
       "      <td>3.0</td>\n",
       "      <td>90.4</td>\n",
       "      <td>30.8</td>\n",
       "      <td>171.4</td>\n",
       "      <td>146.0</td>\n",
       "    </tr>\n",
       "    <tr>\n",
       "      <th>2</th>\n",
       "      <td>1</td>\n",
       "      <td>1</td>\n",
       "      <td>78</td>\n",
       "      <td>1.0</td>\n",
       "      <td>3.0</td>\n",
       "      <td>83.4</td>\n",
       "      <td>28.8</td>\n",
       "      <td>170.1</td>\n",
       "      <td>138.0</td>\n",
       "    </tr>\n",
       "    <tr>\n",
       "      <th>3</th>\n",
       "      <td>2</td>\n",
       "      <td>2</td>\n",
       "      <td>56</td>\n",
       "      <td>6.0</td>\n",
       "      <td>5.0</td>\n",
       "      <td>109.8</td>\n",
       "      <td>42.4</td>\n",
       "      <td>160.9</td>\n",
       "      <td>132.0</td>\n",
       "    </tr>\n",
       "    <tr>\n",
       "      <th>4</th>\n",
       "      <td>2</td>\n",
       "      <td>2</td>\n",
       "      <td>42</td>\n",
       "      <td>3.0</td>\n",
       "      <td>4.0</td>\n",
       "      <td>55.2</td>\n",
       "      <td>20.3</td>\n",
       "      <td>164.9</td>\n",
       "      <td>100.0</td>\n",
       "    </tr>\n",
       "  </tbody>\n",
       "</table>\n",
       "</div>"
      ],
      "text/plain": [
       "   SMQ020  RIAGENDR  RIDAGEYR  DMDMARTL  DMDEDUC2  BMXWT  BMXBMI  BMXHT  \\\n",
       "0       1         1        62       1.0       5.0   94.8    27.8  184.5   \n",
       "1       1         1        53       3.0       3.0   90.4    30.8  171.4   \n",
       "2       1         1        78       1.0       3.0   83.4    28.8  170.1   \n",
       "3       2         2        56       6.0       5.0  109.8    42.4  160.9   \n",
       "4       2         2        42       3.0       4.0   55.2    20.3  164.9   \n",
       "\n",
       "   BPXSY1  \n",
       "0   128.0  \n",
       "1   146.0  \n",
       "2   138.0  \n",
       "3   132.0  \n",
       "4   100.0  "
      ]
     },
     "execution_count": 25,
     "metadata": {},
     "output_type": "execute_result"
    }
   ],
   "source": [
    "#columns of interest:\n",
    "da = df.loc[: , ['SMQ020' , 'RIAGENDR','RIDAGEYR' , 'DMDMARTL', 'DMDEDUC2' ,'BMXWT', 'BMXBMI' , 'BMXHT' , 'BPXSY1']]\n",
    "da.head()"
   ]
  },
  {
   "cell_type": "code",
   "execution_count": 26,
   "id": "8621040b",
   "metadata": {
    "execution": {
     "iopub.execute_input": "2023-07-06T10:56:03.677096Z",
     "iopub.status.busy": "2023-07-06T10:56:03.676763Z",
     "iopub.status.idle": "2023-07-06T10:56:03.686110Z",
     "shell.execute_reply": "2023-07-06T10:56:03.685312Z"
    },
    "papermill": {
     "duration": 0.023877,
     "end_time": "2023-07-06T10:56:03.688214",
     "exception": false,
     "start_time": "2023-07-06T10:56:03.664337",
     "status": "completed"
    },
    "tags": []
   },
   "outputs": [
    {
     "name": "stdout",
     "output_type": "stream",
     "text": [
      "<class 'pandas.core.frame.DataFrame'>\n",
      "RangeIndex: 5735 entries, 0 to 5734\n",
      "Data columns (total 9 columns):\n",
      " #   Column    Non-Null Count  Dtype  \n",
      "---  ------    --------------  -----  \n",
      " 0   SMQ020    5735 non-null   int64  \n",
      " 1   RIAGENDR  5735 non-null   int64  \n",
      " 2   RIDAGEYR  5735 non-null   int64  \n",
      " 3   DMDMARTL  5474 non-null   float64\n",
      " 4   DMDEDUC2  5474 non-null   float64\n",
      " 5   BMXWT     5666 non-null   float64\n",
      " 6   BMXBMI    5662 non-null   float64\n",
      " 7   BMXHT     5673 non-null   float64\n",
      " 8   BPXSY1    5401 non-null   float64\n",
      "dtypes: float64(6), int64(3)\n",
      "memory usage: 403.4 KB\n"
     ]
    },
    {
     "data": {
      "text/plain": [
       "(None,\n",
       "             SMQ020     RIAGENDR     RIDAGEYR     DMDMARTL     DMDEDUC2  \\\n",
       " count  5735.000000  5735.000000  5735.000000  5474.000000  5474.000000   \n",
       " mean      1.607149     1.518919    48.052310     2.628608     3.441725   \n",
       " std       0.571975     0.499686    18.431011     2.366786     1.309700   \n",
       " min       1.000000     1.000000    18.000000     1.000000     1.000000   \n",
       " 25%       1.000000     1.000000    32.000000     1.000000     3.000000   \n",
       " 50%       2.000000     2.000000    48.000000     1.000000     4.000000   \n",
       " 75%       2.000000     2.000000    63.000000     5.000000     4.750000   \n",
       " max       9.000000     2.000000    80.000000    77.000000     9.000000   \n",
       " \n",
       "              BMXWT       BMXBMI        BMXHT       BPXSY1  \n",
       " count  5666.000000  5662.000000  5673.000000  5401.000000  \n",
       " mean     81.342676    29.382197   166.142834   125.084614  \n",
       " std      21.764409     7.095921    10.079264    18.480873  \n",
       " min      32.400000    14.500000   129.700000    82.000000  \n",
       " 25%      65.900000    24.300000   158.700000   112.000000  \n",
       " 50%      78.200000    28.300000   166.000000   122.000000  \n",
       " 75%      92.700000    33.000000   173.500000   134.000000  \n",
       " max     198.900000    67.300000   202.700000   236.000000  )"
      ]
     },
     "execution_count": 26,
     "metadata": {},
     "output_type": "execute_result"
    }
   ],
   "source": [
    "da.info() , da.describe()"
   ]
  },
  {
   "cell_type": "markdown",
   "id": "c2c5f2ef",
   "metadata": {
    "papermill": {
     "duration": 0.011299,
     "end_time": "2023-07-06T10:56:03.711129",
     "exception": false,
     "start_time": "2023-07-06T10:56:03.699830",
     "status": "completed"
    },
    "tags": []
   },
   "source": [
    "# Data Cleaning"
   ]
  },
  {
   "cell_type": "code",
   "execution_count": 27,
   "id": "9b4252cb",
   "metadata": {
    "execution": {
     "iopub.execute_input": "2023-07-06T10:56:03.736446Z",
     "iopub.status.busy": "2023-07-06T10:56:03.735859Z",
     "iopub.status.idle": "2023-07-06T10:56:03.740426Z",
     "shell.execute_reply": "2023-07-06T10:56:03.739289Z"
    },
    "papermill": {
     "duration": 0.019262,
     "end_time": "2023-07-06T10:56:03.742334",
     "exception": false,
     "start_time": "2023-07-06T10:56:03.723072",
     "status": "completed"
    },
    "tags": []
   },
   "outputs": [],
   "source": [
    "#Fixing the column names\n",
    "da.columns = ['Smoking' , 'Gender' , 'Age' , 'Martial Statues' ,'Education Level' ,'Weight' , 'BMI', 'Height' , 'Systolic Blood Preasure']"
   ]
  },
  {
   "cell_type": "code",
   "execution_count": 28,
   "id": "cc05c202",
   "metadata": {
    "execution": {
     "iopub.execute_input": "2023-07-06T10:56:03.767764Z",
     "iopub.status.busy": "2023-07-06T10:56:03.767394Z",
     "iopub.status.idle": "2023-07-06T10:56:03.779157Z",
     "shell.execute_reply": "2023-07-06T10:56:03.777710Z"
    },
    "papermill": {
     "duration": 0.027009,
     "end_time": "2023-07-06T10:56:03.781813",
     "exception": false,
     "start_time": "2023-07-06T10:56:03.754804",
     "status": "completed"
    },
    "tags": []
   },
   "outputs": [
    {
     "data": {
      "text/plain": [
       "Education Level\n",
       "Some college/AA    1621\n",
       "College            1366\n",
       "HS/GED             1186\n",
       "<9                  655\n",
       "9-11                643\n",
       "Don't know            3\n",
       "Name: count, dtype: int64"
      ]
     },
     "execution_count": 28,
     "metadata": {},
     "output_type": "execute_result"
    }
   ],
   "source": [
    "#fixing the education level column and generating a frequency table\n",
    "da[\"Education Level\"] = da['Education Level'].replace({1: \"<9\", 2: \"9-11\", 3: \"HS/GED\", 4: \"Some college/AA\", 5: \"College\", \n",
    "                                       7: \"Refused\", 9: \"Don't know\"})\n",
    "\n",
    "da['Education Level'].value_counts()"
   ]
  },
  {
   "cell_type": "code",
   "execution_count": 29,
   "id": "4e358a67",
   "metadata": {
    "execution": {
     "iopub.execute_input": "2023-07-06T10:56:03.808070Z",
     "iopub.status.busy": "2023-07-06T10:56:03.807489Z",
     "iopub.status.idle": "2023-07-06T10:56:03.814159Z",
     "shell.execute_reply": "2023-07-06T10:56:03.812889Z"
    },
    "papermill": {
     "duration": 0.022297,
     "end_time": "2023-07-06T10:56:03.816442",
     "exception": false,
     "start_time": "2023-07-06T10:56:03.794145",
     "status": "completed"
    },
    "tags": []
   },
   "outputs": [],
   "source": [
    "# We will also want to have a relabeled version of the gender variable\n",
    "da[\"Gender\"] = da.Gender.replace({1: \"Male\", 2: \"Female\"})"
   ]
  },
  {
   "cell_type": "code",
   "execution_count": 30,
   "id": "1427b3a8",
   "metadata": {
    "execution": {
     "iopub.execute_input": "2023-07-06T10:56:03.843171Z",
     "iopub.status.busy": "2023-07-06T10:56:03.842572Z",
     "iopub.status.idle": "2023-07-06T10:56:03.852610Z",
     "shell.execute_reply": "2023-07-06T10:56:03.851804Z"
    },
    "papermill": {
     "duration": 0.025468,
     "end_time": "2023-07-06T10:56:03.854309",
     "exception": false,
     "start_time": "2023-07-06T10:56:03.828841",
     "status": "completed"
    },
    "tags": []
   },
   "outputs": [
    {
     "data": {
      "text/plain": [
       "Martial Statues\n",
       "Married             2780\n",
       "Never married       1004\n",
       "Divorced             579\n",
       "Living w/partner     527\n",
       "Widowed              396\n",
       "Separated            186\n",
       "Refused                2\n",
       "Name: count, dtype: int64"
      ]
     },
     "execution_count": 30,
     "metadata": {},
     "output_type": "execute_result"
    }
   ],
   "source": [
    "#Fixing the martial statues column and generating a frequency table\n",
    "da[\"Martial Statues\"] = da['Martial Statues'].replace({1: \"Married\", 2: \"Widowed\", 3: \"Divorced\", 4: \"Separated\", 5: \"Never married\",\n",
    "                                      6: \"Living w/partner\", 77: \"Refused\"})\n",
    "\n",
    "\n",
    "da[\"Martial Statues\"].value_counts()"
   ]
  },
  {
   "cell_type": "code",
   "execution_count": 31,
   "id": "8a089e5d",
   "metadata": {
    "execution": {
     "iopub.execute_input": "2023-07-06T10:56:03.879676Z",
     "iopub.status.busy": "2023-07-06T10:56:03.879362Z",
     "iopub.status.idle": "2023-07-06T10:56:03.890162Z",
     "shell.execute_reply": "2023-07-06T10:56:03.889085Z"
    },
    "papermill": {
     "duration": 0.025848,
     "end_time": "2023-07-06T10:56:03.892098",
     "exception": false,
     "start_time": "2023-07-06T10:56:03.866250",
     "status": "completed"
    },
    "tags": []
   },
   "outputs": [
    {
     "data": {
      "text/plain": [
       "Smoking\n",
       "No             3406\n",
       "Yes            2319\n",
       "Don't know        8\n",
       "Refused           2\n",
       "Name: count, dtype: int64"
      ]
     },
     "execution_count": 31,
     "metadata": {},
     "output_type": "execute_result"
    }
   ],
   "source": [
    "#Fixing the Smoking SMOQ020 column\n",
    "da[\"Smoking\"] = da['Smoking'].replace({1: \"Yes\", 2: \"No\" , 7: \"Refused\", 9:\"Don't know \"})\n",
    "\n",
    "da[\"Smoking\"].value_counts()"
   ]
  },
  {
   "cell_type": "code",
   "execution_count": 32,
   "id": "94e24b75",
   "metadata": {
    "execution": {
     "iopub.execute_input": "2023-07-06T10:56:03.918334Z",
     "iopub.status.busy": "2023-07-06T10:56:03.918019Z",
     "iopub.status.idle": "2023-07-06T10:56:03.930394Z",
     "shell.execute_reply": "2023-07-06T10:56:03.929785Z"
    },
    "papermill": {
     "duration": 0.02711,
     "end_time": "2023-07-06T10:56:03.931886",
     "exception": false,
     "start_time": "2023-07-06T10:56:03.904776",
     "status": "completed"
    },
    "tags": []
   },
   "outputs": [
    {
     "data": {
      "text/html": [
       "<div>\n",
       "<style scoped>\n",
       "    .dataframe tbody tr th:only-of-type {\n",
       "        vertical-align: middle;\n",
       "    }\n",
       "\n",
       "    .dataframe tbody tr th {\n",
       "        vertical-align: top;\n",
       "    }\n",
       "\n",
       "    .dataframe thead th {\n",
       "        text-align: right;\n",
       "    }\n",
       "</style>\n",
       "<table border=\"1\" class=\"dataframe\">\n",
       "  <thead>\n",
       "    <tr style=\"text-align: right;\">\n",
       "      <th></th>\n",
       "      <th>Smoking</th>\n",
       "      <th>Gender</th>\n",
       "      <th>Age</th>\n",
       "      <th>Martial Statues</th>\n",
       "      <th>Education Level</th>\n",
       "      <th>Weight</th>\n",
       "      <th>BMI</th>\n",
       "      <th>Height</th>\n",
       "      <th>Systolic Blood Preasure</th>\n",
       "    </tr>\n",
       "  </thead>\n",
       "  <tbody>\n",
       "    <tr>\n",
       "      <th>0</th>\n",
       "      <td>Yes</td>\n",
       "      <td>Male</td>\n",
       "      <td>62</td>\n",
       "      <td>Married</td>\n",
       "      <td>College</td>\n",
       "      <td>94.8</td>\n",
       "      <td>27.8</td>\n",
       "      <td>184.5</td>\n",
       "      <td>128.0</td>\n",
       "    </tr>\n",
       "    <tr>\n",
       "      <th>1</th>\n",
       "      <td>Yes</td>\n",
       "      <td>Male</td>\n",
       "      <td>53</td>\n",
       "      <td>Divorced</td>\n",
       "      <td>HS/GED</td>\n",
       "      <td>90.4</td>\n",
       "      <td>30.8</td>\n",
       "      <td>171.4</td>\n",
       "      <td>146.0</td>\n",
       "    </tr>\n",
       "    <tr>\n",
       "      <th>2</th>\n",
       "      <td>Yes</td>\n",
       "      <td>Male</td>\n",
       "      <td>78</td>\n",
       "      <td>Married</td>\n",
       "      <td>HS/GED</td>\n",
       "      <td>83.4</td>\n",
       "      <td>28.8</td>\n",
       "      <td>170.1</td>\n",
       "      <td>138.0</td>\n",
       "    </tr>\n",
       "    <tr>\n",
       "      <th>3</th>\n",
       "      <td>No</td>\n",
       "      <td>Female</td>\n",
       "      <td>56</td>\n",
       "      <td>Living w/partner</td>\n",
       "      <td>College</td>\n",
       "      <td>109.8</td>\n",
       "      <td>42.4</td>\n",
       "      <td>160.9</td>\n",
       "      <td>132.0</td>\n",
       "    </tr>\n",
       "    <tr>\n",
       "      <th>4</th>\n",
       "      <td>No</td>\n",
       "      <td>Female</td>\n",
       "      <td>42</td>\n",
       "      <td>Divorced</td>\n",
       "      <td>Some college/AA</td>\n",
       "      <td>55.2</td>\n",
       "      <td>20.3</td>\n",
       "      <td>164.9</td>\n",
       "      <td>100.0</td>\n",
       "    </tr>\n",
       "  </tbody>\n",
       "</table>\n",
       "</div>"
      ],
      "text/plain": [
       "  Smoking  Gender  Age   Martial Statues  Education Level  Weight   BMI  \\\n",
       "0     Yes    Male   62           Married          College    94.8  27.8   \n",
       "1     Yes    Male   53          Divorced           HS/GED    90.4  30.8   \n",
       "2     Yes    Male   78           Married           HS/GED    83.4  28.8   \n",
       "3      No  Female   56  Living w/partner          College   109.8  42.4   \n",
       "4      No  Female   42          Divorced  Some college/AA    55.2  20.3   \n",
       "\n",
       "   Height  Systolic Blood Preasure  \n",
       "0   184.5                    128.0  \n",
       "1   171.4                    146.0  \n",
       "2   170.1                    138.0  \n",
       "3   160.9                    132.0  \n",
       "4   164.9                    100.0  "
      ]
     },
     "execution_count": 32,
     "metadata": {},
     "output_type": "execute_result"
    }
   ],
   "source": [
    "da.head()"
   ]
  },
  {
   "cell_type": "markdown",
   "id": "ed68f13b",
   "metadata": {
    "papermill": {
     "duration": 0.011579,
     "end_time": "2023-07-06T10:56:03.955499",
     "exception": false,
     "start_time": "2023-07-06T10:56:03.943920",
     "status": "completed"
    },
    "tags": []
   },
   "source": [
    "perfect columns names and it's values are clear"
   ]
  },
  {
   "cell_type": "markdown",
   "id": "d69d7892",
   "metadata": {
    "papermill": {
     "duration": 0.011796,
     "end_time": "2023-07-06T10:56:03.979450",
     "exception": false,
     "start_time": "2023-07-06T10:56:03.967654",
     "status": "completed"
    },
    "tags": []
   },
   "source": [
    "#### checking for duplicates"
   ]
  },
  {
   "cell_type": "code",
   "execution_count": 33,
   "id": "bf81c0b6",
   "metadata": {
    "execution": {
     "iopub.execute_input": "2023-07-06T10:56:04.006633Z",
     "iopub.status.busy": "2023-07-06T10:56:04.006095Z",
     "iopub.status.idle": "2023-07-06T10:56:04.023262Z",
     "shell.execute_reply": "2023-07-06T10:56:04.022295Z"
    },
    "papermill": {
     "duration": 0.033704,
     "end_time": "2023-07-06T10:56:04.025208",
     "exception": false,
     "start_time": "2023-07-06T10:56:03.991504",
     "status": "completed"
    },
    "tags": []
   },
   "outputs": [
    {
     "data": {
      "text/html": [
       "<div>\n",
       "<style scoped>\n",
       "    .dataframe tbody tr th:only-of-type {\n",
       "        vertical-align: middle;\n",
       "    }\n",
       "\n",
       "    .dataframe tbody tr th {\n",
       "        vertical-align: top;\n",
       "    }\n",
       "\n",
       "    .dataframe thead th {\n",
       "        text-align: right;\n",
       "    }\n",
       "</style>\n",
       "<table border=\"1\" class=\"dataframe\">\n",
       "  <thead>\n",
       "    <tr style=\"text-align: right;\">\n",
       "      <th></th>\n",
       "      <th>Smoking</th>\n",
       "      <th>Gender</th>\n",
       "      <th>Age</th>\n",
       "      <th>Martial Statues</th>\n",
       "      <th>Education Level</th>\n",
       "      <th>Weight</th>\n",
       "      <th>BMI</th>\n",
       "      <th>Height</th>\n",
       "      <th>Systolic Blood Preasure</th>\n",
       "    </tr>\n",
       "  </thead>\n",
       "  <tbody>\n",
       "  </tbody>\n",
       "</table>\n",
       "</div>"
      ],
      "text/plain": [
       "Empty DataFrame\n",
       "Columns: [Smoking, Gender, Age, Martial Statues, Education Level, Weight, BMI, Height, Systolic Blood Preasure]\n",
       "Index: []"
      ]
     },
     "execution_count": 33,
     "metadata": {},
     "output_type": "execute_result"
    }
   ],
   "source": [
    "da[da.duplicated()]"
   ]
  },
  {
   "cell_type": "markdown",
   "id": "df91492c",
   "metadata": {
    "papermill": {
     "duration": 0.012362,
     "end_time": "2023-07-06T10:56:04.050024",
     "exception": false,
     "start_time": "2023-07-06T10:56:04.037662",
     "status": "completed"
    },
    "tags": []
   },
   "source": [
    "We have no duplicates in this dataset"
   ]
  },
  {
   "cell_type": "markdown",
   "id": "eaee67f2",
   "metadata": {
    "papermill": {
     "duration": 0.011813,
     "end_time": "2023-07-06T10:56:04.073844",
     "exception": false,
     "start_time": "2023-07-06T10:56:04.062031",
     "status": "completed"
    },
    "tags": []
   },
   "source": [
    "##### Handling missing values"
   ]
  },
  {
   "cell_type": "code",
   "execution_count": 34,
   "id": "1219ea8c",
   "metadata": {
    "execution": {
     "iopub.execute_input": "2023-07-06T10:56:04.101355Z",
     "iopub.status.busy": "2023-07-06T10:56:04.101048Z",
     "iopub.status.idle": "2023-07-06T10:56:04.113952Z",
     "shell.execute_reply": "2023-07-06T10:56:04.112704Z"
    },
    "papermill": {
     "duration": 0.028263,
     "end_time": "2023-07-06T10:56:04.115827",
     "exception": false,
     "start_time": "2023-07-06T10:56:04.087564",
     "status": "completed"
    },
    "tags": []
   },
   "outputs": [
    {
     "data": {
      "text/plain": [
       "Smoking                      0\n",
       "Gender                       0\n",
       "Age                          0\n",
       "Martial Statues            261\n",
       "Education Level            261\n",
       "Weight                      69\n",
       "BMI                         73\n",
       "Height                      62\n",
       "Systolic Blood Preasure    334\n",
       "dtype: int64"
      ]
     },
     "execution_count": 34,
     "metadata": {},
     "output_type": "execute_result"
    }
   ],
   "source": [
    "da.isna().sum()"
   ]
  },
  {
   "cell_type": "markdown",
   "id": "b22a46df",
   "metadata": {
    "papermill": {
     "duration": 0.012517,
     "end_time": "2023-07-06T10:56:04.141198",
     "exception": false,
     "start_time": "2023-07-06T10:56:04.128681",
     "status": "completed"
    },
    "tags": []
   },
   "source": [
    "we have missing values in Martial statues, Education level, wight, BMI, height and systolic blood preasure.\n",
    "for martial statues and educationl level i will replace the nan values with 'missing' while for quantitative columns it's much better not to remove the data so i will replace it with it's mean of the crosponding gender"
   ]
  },
  {
   "cell_type": "code",
   "execution_count": null,
   "id": "9abb5c64",
   "metadata": {
    "vscode": {
     "languageId": "coffeescript"
    }
   },
   "outputs": [],
   "source": [
    "da[\"Martial Statues\"] = da[\"Martial Statues\"].fillna(\"Missing\")\n",
    "da[\"Education Level\"] = da['Education Level'].fillna(\"Missing\")\n",
    "\n",
    "quantatives = da.select_dtypes(include='float64')\n",
    "\n",
    "m_ary = np.mean(da[da.Gender == 'Male'])[1:]\n",
    "f_ary = np.mean(da[da.Gender == 'Female'])[1:]\n",
    "\n",
    "num = 0\n",
    "for i in quantatives.columns:\n",
    "    da.loc[(da.Gender == 'Male') & (da[i].isna()), i] = m_ary[num]\n",
    "    da.loc[(da.Gender == 'Female') & (da[i].isna()), i] = f_ary[num]\n",
    "    num += 1\n",
    "\n",
    "da.isna().sum()"
   ]
  },
  {
   "cell_type": "markdown",
   "id": "f410303c",
   "metadata": {
    "papermill": {
     "duration": 0.012044,
     "end_time": "2023-07-06T10:56:04.237651",
     "exception": false,
     "start_time": "2023-07-06T10:56:04.225607",
     "status": "completed"
    },
    "tags": []
   },
   "source": [
    "No more nan values in our data"
   ]
  },
  {
   "cell_type": "code",
   "execution_count": 36,
   "id": "6a98cfb7",
   "metadata": {
    "execution": {
     "iopub.execute_input": "2023-07-06T10:56:04.263939Z",
     "iopub.status.busy": "2023-07-06T10:56:04.263160Z",
     "iopub.status.idle": "2023-07-06T10:56:04.285763Z",
     "shell.execute_reply": "2023-07-06T10:56:04.285154Z"
    },
    "papermill": {
     "duration": 0.03731,
     "end_time": "2023-07-06T10:56:04.287210",
     "exception": false,
     "start_time": "2023-07-06T10:56:04.249900",
     "status": "completed"
    },
    "tags": []
   },
   "outputs": [
    {
     "data": {
      "text/html": [
       "<div>\n",
       "<style scoped>\n",
       "    .dataframe tbody tr th:only-of-type {\n",
       "        vertical-align: middle;\n",
       "    }\n",
       "\n",
       "    .dataframe tbody tr th {\n",
       "        vertical-align: top;\n",
       "    }\n",
       "\n",
       "    .dataframe thead th {\n",
       "        text-align: right;\n",
       "    }\n",
       "</style>\n",
       "<table border=\"1\" class=\"dataframe\">\n",
       "  <thead>\n",
       "    <tr style=\"text-align: right;\">\n",
       "      <th></th>\n",
       "      <th>Age</th>\n",
       "      <th>Weight</th>\n",
       "      <th>BMI</th>\n",
       "      <th>Height</th>\n",
       "      <th>Systolic Blood Preasure</th>\n",
       "    </tr>\n",
       "  </thead>\n",
       "  <tbody>\n",
       "    <tr>\n",
       "      <th>count</th>\n",
       "      <td>5735.000000</td>\n",
       "      <td>5666.000000</td>\n",
       "      <td>5662.000000</td>\n",
       "      <td>5673.000000</td>\n",
       "      <td>5401.000000</td>\n",
       "    </tr>\n",
       "    <tr>\n",
       "      <th>mean</th>\n",
       "      <td>48.052310</td>\n",
       "      <td>81.342676</td>\n",
       "      <td>29.382197</td>\n",
       "      <td>166.142834</td>\n",
       "      <td>125.084614</td>\n",
       "    </tr>\n",
       "    <tr>\n",
       "      <th>std</th>\n",
       "      <td>18.431011</td>\n",
       "      <td>21.764409</td>\n",
       "      <td>7.095921</td>\n",
       "      <td>10.079264</td>\n",
       "      <td>18.480873</td>\n",
       "    </tr>\n",
       "    <tr>\n",
       "      <th>min</th>\n",
       "      <td>18.000000</td>\n",
       "      <td>32.400000</td>\n",
       "      <td>14.500000</td>\n",
       "      <td>129.700000</td>\n",
       "      <td>82.000000</td>\n",
       "    </tr>\n",
       "    <tr>\n",
       "      <th>25%</th>\n",
       "      <td>32.000000</td>\n",
       "      <td>65.900000</td>\n",
       "      <td>24.300000</td>\n",
       "      <td>158.700000</td>\n",
       "      <td>112.000000</td>\n",
       "    </tr>\n",
       "    <tr>\n",
       "      <th>50%</th>\n",
       "      <td>48.000000</td>\n",
       "      <td>78.200000</td>\n",
       "      <td>28.300000</td>\n",
       "      <td>166.000000</td>\n",
       "      <td>122.000000</td>\n",
       "    </tr>\n",
       "    <tr>\n",
       "      <th>75%</th>\n",
       "      <td>63.000000</td>\n",
       "      <td>92.700000</td>\n",
       "      <td>33.000000</td>\n",
       "      <td>173.500000</td>\n",
       "      <td>134.000000</td>\n",
       "    </tr>\n",
       "    <tr>\n",
       "      <th>max</th>\n",
       "      <td>80.000000</td>\n",
       "      <td>198.900000</td>\n",
       "      <td>67.300000</td>\n",
       "      <td>202.700000</td>\n",
       "      <td>236.000000</td>\n",
       "    </tr>\n",
       "  </tbody>\n",
       "</table>\n",
       "</div>"
      ],
      "text/plain": [
       "               Age       Weight          BMI       Height  \\\n",
       "count  5735.000000  5666.000000  5662.000000  5673.000000   \n",
       "mean     48.052310    81.342676    29.382197   166.142834   \n",
       "std      18.431011    21.764409     7.095921    10.079264   \n",
       "min      18.000000    32.400000    14.500000   129.700000   \n",
       "25%      32.000000    65.900000    24.300000   158.700000   \n",
       "50%      48.000000    78.200000    28.300000   166.000000   \n",
       "75%      63.000000    92.700000    33.000000   173.500000   \n",
       "max      80.000000   198.900000    67.300000   202.700000   \n",
       "\n",
       "       Systolic Blood Preasure  \n",
       "count              5401.000000  \n",
       "mean                125.084614  \n",
       "std                  18.480873  \n",
       "min                  82.000000  \n",
       "25%                 112.000000  \n",
       "50%                 122.000000  \n",
       "75%                 134.000000  \n",
       "max                 236.000000  "
      ]
     },
     "execution_count": 36,
     "metadata": {},
     "output_type": "execute_result"
    }
   ],
   "source": [
    "#summary statistics for the quantative variables\n",
    "da.describe()"
   ]
  },
  {
   "cell_type": "markdown",
   "id": "d15959b8",
   "metadata": {
    "papermill": {
     "duration": 0.012247,
     "end_time": "2023-07-06T10:56:04.311789",
     "exception": false,
     "start_time": "2023-07-06T10:56:04.299542",
     "status": "completed"
    },
    "tags": []
   },
   "source": [
    "# Graphical summaries"
   ]
  },
  {
   "cell_type": "code",
   "execution_count": null,
   "id": "66ff48d3",
   "metadata": {
    "execution": {
     "iopub.execute_input": "2023-07-06T10:56:04.339562Z",
     "iopub.status.busy": "2023-07-06T10:56:04.338399Z",
     "iopub.status.idle": "2023-07-06T10:56:05.360514Z",
     "shell.execute_reply": "2023-07-06T10:56:05.359796Z"
    },
    "papermill": {
     "duration": 1.037567,
     "end_time": "2023-07-06T10:56:05.361989",
     "exception": false,
     "start_time": "2023-07-06T10:56:04.324422",
     "status": "completed"
    },
    "tags": []
   },
   "outputs": [
    {
     "data": {
      "image/png": "[encoded data removed]",
      "text/plain": [
       "<Figure size 1500x1000 with 4 Axes>"
      ]
     },
     "metadata": {},
     "output_type": "display_data"
    }
   ],
   "source": [
    "# creating histogram for quantitative variables\n",
    "fig, axs = plt.subplots(2,2, figsize=(15, 10))\n",
    "      \n",
    "sns.histplot(data= da, x=\"Age\", kde=True, color=\"red\", ax=axs[0,0])\n",
    "sns.histplot(data= da, x=\"Weight\", kde=True, color=\"skyblue\", ax=axs[0,1])\n",
    "sns.histplot(data= da, x=\"Height\", kde=True, color=\"olive\", ax=axs[1,0])\n",
    "sns.histplot(data= da, x=\"BMI\", kde=True, color=\"gold\", ax=axs[1,1])\n",
    "\n",
    "plt.show()"
   ]
  },
  {
   "cell_type": "markdown",
   "id": "e036a6c9",
   "metadata": {
    "papermill": {
     "duration": 0.01332,
     "end_time": "2023-07-06T10:56:05.389026",
     "exception": false,
     "start_time": "2023-07-06T10:56:05.375706",
     "status": "completed"
    },
    "tags": []
   },
   "source": [
    "For the Age histogram it's a uniform shaped with range about 60 and a mean at 48\n",
    "\n",
    "For Weight histogram it's evidently unimodel right-skewed histogram with range 170 and a mean at 81 with most weights between 60 and 90 kilogrames.\n",
    "\n",
    "For Height histogram it's a bell_shaped with range 70 and mean at 166\n",
    "\n",
    "For BMI histogram it's a right skewed with range 50 and mean at 29 and most values between 23 and 35 "
   ]
  },
  {
   "cell_type": "code",
   "execution_count": 38,
   "id": "c2a26009",
   "metadata": {
    "execution": {
     "iopub.execute_input": "2023-07-06T10:56:05.418794Z",
     "iopub.status.busy": "2023-07-06T10:56:05.417381Z",
     "iopub.status.idle": "2023-07-06T10:56:05.802396Z",
     "shell.execute_reply": "2023-07-06T10:56:05.801289Z"
    },
    "papermill": {
     "duration": 0.401978,
     "end_time": "2023-07-06T10:56:05.804539",
     "exception": false,
     "start_time": "2023-07-06T10:56:05.402561",
     "status": "completed"
    },
    "tags": []
   },
   "outputs": [
    {
     "data": {
      "image/png": "[encoded data removed]",
      "text/plain": [
       "<Figure size 1200x500 with 1 Axes>"
      ]
     },
     "metadata": {},
     "output_type": "display_data"
    }
   ],
   "source": [
    "# A side by side boxplots showing the systolic blood preasure for men and women in diffrent ages\n",
    "da[\"agegrp\"] = pd.cut(da.Age, [18, 30, 40, 50, 60, 70, 80])\n",
    "plt.figure(figsize=(12, 5))\n",
    "sns.boxplot(x=\"agegrp\", y='Systolic Blood Preasure', hue=\"Gender\", data=da);"
   ]
  },
  {
   "cell_type": "markdown",
   "id": "0f4cfa0e",
   "metadata": {
    "papermill": {
     "duration": 0.013501,
     "end_time": "2023-07-06T10:56:05.832380",
     "exception": false,
     "start_time": "2023-07-06T10:56:05.818879",
     "status": "completed"
    },
    "tags": []
   },
   "source": [
    "We see from the figure above that within each gender, older people tend to have higher blood pressure than younger people. However within an age band, the relationship between gender and systolic blood pressure is somewhat complex -- in younger people, men have substantially higher blood pressures than women of the same age. However for people older than 50, this relationship becomes much weaker, and among people older than 70 it appears to reverse. It is also notable that the variation of these distributions, reflected in the height of each box in the boxplot, increases with age."
   ]
  },
  {
   "cell_type": "code",
   "execution_count": 39,
   "id": "f1579bd0",
   "metadata": {
    "execution": {
     "iopub.execute_input": "2023-07-06T10:56:05.862943Z",
     "iopub.status.busy": "2023-07-06T10:56:05.862601Z",
     "iopub.status.idle": "2023-07-06T10:56:06.043107Z",
     "shell.execute_reply": "2023-07-06T10:56:06.041920Z"
    },
    "papermill": {
     "duration": 0.197941,
     "end_time": "2023-07-06T10:56:06.045070",
     "exception": false,
     "start_time": "2023-07-06T10:56:05.847129",
     "status": "completed"
    },
    "tags": []
   },
   "outputs": [
    {
     "name": "stdout",
     "output_type": "stream",
     "text": [
      "average height of men 173.13204987165383 , while for women 159.6731839782756\n"
     ]
    },
    {
     "data": {
      "image/png": "[encoded data removed]",
      "text/plain": [
       "<Figure size 640x480 with 1 Axes>"
      ]
     },
     "metadata": {},
     "output_type": "display_data"
    }
   ],
   "source": [
    "#a side-by-side boxplot showing the heights of women and men.\n",
    "sns.boxplot(x = da.Gender , y = da.Height);\n",
    "print(f\"average height of men {da[da.Gender =='Male'].Height.mean()} , while for women {da[da.Gender =='Female'].Height.mean()}\")"
   ]
  },
  {
   "cell_type": "markdown",
   "id": "0df3e851",
   "metadata": {
    "papermill": {
     "duration": 0.014623,
     "end_time": "2023-07-06T10:56:06.074402",
     "exception": false,
     "start_time": "2023-07-06T10:56:06.059779",
     "status": "completed"
    },
    "tags": []
   },
   "source": [
    "We can see men tend to have higher height than women"
   ]
  },
  {
   "cell_type": "code",
   "execution_count": 40,
   "id": "c45eda43",
   "metadata": {
    "execution": {
     "iopub.execute_input": "2023-07-06T10:56:06.105997Z",
     "iopub.status.busy": "2023-07-06T10:56:06.105495Z",
     "iopub.status.idle": "2023-07-06T10:56:06.112980Z",
     "shell.execute_reply": "2023-07-06T10:56:06.111966Z"
    },
    "papermill": {
     "duration": 0.025778,
     "end_time": "2023-07-06T10:56:06.115132",
     "exception": false,
     "start_time": "2023-07-06T10:56:06.089354",
     "status": "completed"
    },
    "tags": []
   },
   "outputs": [],
   "source": [
    "db = da.loc[(da['Education Level'] != \"Don't know\") & (da[\"Martial Statues\"] != \"Refused\"), :]"
   ]
  },
  {
   "cell_type": "code",
   "execution_count": 41,
   "id": "5bd00aae",
   "metadata": {
    "execution": {
     "iopub.execute_input": "2023-07-06T10:56:06.146452Z",
     "iopub.status.busy": "2023-07-06T10:56:06.145839Z",
     "iopub.status.idle": "2023-07-06T10:56:06.184282Z",
     "shell.execute_reply": "2023-07-06T10:56:06.183403Z"
    },
    "papermill": {
     "duration": 0.056707,
     "end_time": "2023-07-06T10:56:06.186596",
     "exception": false,
     "start_time": "2023-07-06T10:56:06.129889",
     "status": "completed"
    },
    "tags": []
   },
   "outputs": [
    {
     "data": {
      "text/html": [
       "<div>\n",
       "<style scoped>\n",
       "    .dataframe tbody tr th:only-of-type {\n",
       "        vertical-align: middle;\n",
       "    }\n",
       "\n",
       "    .dataframe tbody tr th {\n",
       "        vertical-align: top;\n",
       "    }\n",
       "\n",
       "    .dataframe thead th {\n",
       "        text-align: right;\n",
       "    }\n",
       "</style>\n",
       "<table border=\"1\" class=\"dataframe\">\n",
       "  <thead>\n",
       "    <tr style=\"text-align: right;\">\n",
       "      <th>Martial Statues</th>\n",
       "      <th>Divorced</th>\n",
       "      <th>Living w/partner</th>\n",
       "      <th>Married</th>\n",
       "      <th>Missing</th>\n",
       "      <th>Never married</th>\n",
       "      <th>Separated</th>\n",
       "      <th>Widowed</th>\n",
       "    </tr>\n",
       "    <tr>\n",
       "      <th>Education Level</th>\n",
       "      <th></th>\n",
       "      <th></th>\n",
       "      <th></th>\n",
       "      <th></th>\n",
       "      <th></th>\n",
       "      <th></th>\n",
       "      <th></th>\n",
       "    </tr>\n",
       "  </thead>\n",
       "  <tbody>\n",
       "    <tr>\n",
       "      <th>9-11</th>\n",
       "      <td>0.096423</td>\n",
       "      <td>0.124417</td>\n",
       "      <td>0.474339</td>\n",
       "      <td>0.0</td>\n",
       "      <td>0.181960</td>\n",
       "      <td>0.060653</td>\n",
       "      <td>0.062208</td>\n",
       "    </tr>\n",
       "    <tr>\n",
       "      <th>&lt;9</th>\n",
       "      <td>0.079389</td>\n",
       "      <td>0.100763</td>\n",
       "      <td>0.520611</td>\n",
       "      <td>0.0</td>\n",
       "      <td>0.099237</td>\n",
       "      <td>0.065649</td>\n",
       "      <td>0.134351</td>\n",
       "    </tr>\n",
       "    <tr>\n",
       "      <th>College</th>\n",
       "      <td>0.087848</td>\n",
       "      <td>0.062225</td>\n",
       "      <td>0.605417</td>\n",
       "      <td>0.0</td>\n",
       "      <td>0.185212</td>\n",
       "      <td>0.016105</td>\n",
       "      <td>0.043192</td>\n",
       "    </tr>\n",
       "    <tr>\n",
       "      <th>HS/GED</th>\n",
       "      <td>0.107083</td>\n",
       "      <td>0.112142</td>\n",
       "      <td>0.463744</td>\n",
       "      <td>0.0</td>\n",
       "      <td>0.199831</td>\n",
       "      <td>0.033727</td>\n",
       "      <td>0.083474</td>\n",
       "    </tr>\n",
       "    <tr>\n",
       "      <th>Missing</th>\n",
       "      <td>0.000000</td>\n",
       "      <td>0.000000</td>\n",
       "      <td>0.000000</td>\n",
       "      <td>1.0</td>\n",
       "      <td>0.000000</td>\n",
       "      <td>0.000000</td>\n",
       "      <td>0.000000</td>\n",
       "    </tr>\n",
       "    <tr>\n",
       "      <th>Some college/AA</th>\n",
       "      <td>0.134033</td>\n",
       "      <td>0.100679</td>\n",
       "      <td>0.467573</td>\n",
       "      <td>0.0</td>\n",
       "      <td>0.205065</td>\n",
       "      <td>0.025942</td>\n",
       "      <td>0.066708</td>\n",
       "    </tr>\n",
       "  </tbody>\n",
       "</table>\n",
       "</div>"
      ],
      "text/plain": [
       "Martial Statues  Divorced  Living w/partner   Married  Missing  Never married  \\\n",
       "Education Level                                                                 \n",
       "9-11             0.096423          0.124417  0.474339      0.0       0.181960   \n",
       "<9               0.079389          0.100763  0.520611      0.0       0.099237   \n",
       "College          0.087848          0.062225  0.605417      0.0       0.185212   \n",
       "HS/GED           0.107083          0.112142  0.463744      0.0       0.199831   \n",
       "Missing          0.000000          0.000000  0.000000      1.0       0.000000   \n",
       "Some college/AA  0.134033          0.100679  0.467573      0.0       0.205065   \n",
       "\n",
       "Martial Statues  Separated   Widowed  \n",
       "Education Level                       \n",
       "9-11              0.060653  0.062208  \n",
       "<9                0.065649  0.134351  \n",
       "College           0.016105  0.043192  \n",
       "HS/GED            0.033727  0.083474  \n",
       "Missing           0.000000  0.000000  \n",
       "Some college/AA   0.025942  0.066708  "
      ]
     },
     "execution_count": 41,
     "metadata": {},
     "output_type": "execute_result"
    }
   ],
   "source": [
    "# creating a normalized contingency table, counting the number of people in each cell\n",
    "# defined by a combination of education and marital status.\n",
    "ct = pd.crosstab(db['Education Level'], da[\"Martial Statues\"] ).apply(lambda x:x / x.sum(), axis = 1)\n",
    "ct"
   ]
  },
  {
   "cell_type": "markdown",
   "id": "0c2a44aa",
   "metadata": {
    "papermill": {
     "duration": 0.014418,
     "end_time": "2023-07-06T10:56:06.216228",
     "exception": false,
     "start_time": "2023-07-06T10:56:06.201810",
     "status": "completed"
    },
    "tags": []
   },
   "source": [
    "We see here that the plurality of divorced people have some college but have not graduated from college, while the plurality of married people are college graduates."
   ]
  },
  {
   "cell_type": "markdown",
   "id": "552eee27",
   "metadata": {
    "papermill": {
     "duration": 0.014379,
     "end_time": "2023-07-06T10:56:06.244866",
     "exception": false,
     "start_time": "2023-07-06T10:56:06.230487",
     "status": "completed"
    },
    "tags": []
   },
   "source": [
    "marital status is associated with many factors, including gender and eduational status, but also varies strongly by age and birth cohort. For example, it is unlikely for young people to be widowed, and it is less likely for older people to be \"never married\", since a person can transition from \"never married\" into one of the other categories, but can never move back."
   ]
  },
  {
   "cell_type": "code",
   "execution_count": 42,
   "id": "b648a7e8",
   "metadata": {
    "execution": {
     "iopub.execute_input": "2023-07-06T10:56:06.275682Z",
     "iopub.status.busy": "2023-07-06T10:56:06.275336Z",
     "iopub.status.idle": "2023-07-06T10:56:06.296063Z",
     "shell.execute_reply": "2023-07-06T10:56:06.295268Z"
    },
    "papermill": {
     "duration": 0.037945,
     "end_time": "2023-07-06T10:56:06.297898",
     "exception": false,
     "start_time": "2023-07-06T10:56:06.259953",
     "status": "completed"
    },
    "tags": []
   },
   "outputs": [
    {
     "data": {
      "text/html": [
       "<div>\n",
       "<style scoped>\n",
       "    .dataframe tbody tr th:only-of-type {\n",
       "        vertical-align: middle;\n",
       "    }\n",
       "\n",
       "    .dataframe tbody tr th {\n",
       "        vertical-align: top;\n",
       "    }\n",
       "\n",
       "    .dataframe thead th {\n",
       "        text-align: right;\n",
       "    }\n",
       "</style>\n",
       "<table border=\"1\" class=\"dataframe\">\n",
       "  <thead>\n",
       "    <tr style=\"text-align: right;\">\n",
       "      <th></th>\n",
       "      <th>Martial Statues</th>\n",
       "      <th>Divorced</th>\n",
       "      <th>Living w/partner</th>\n",
       "      <th>Married</th>\n",
       "      <th>Missing</th>\n",
       "      <th>Never married</th>\n",
       "      <th>Separated</th>\n",
       "      <th>Widowed</th>\n",
       "    </tr>\n",
       "    <tr>\n",
       "      <th>Gender</th>\n",
       "      <th>Education Level</th>\n",
       "      <th></th>\n",
       "      <th></th>\n",
       "      <th></th>\n",
       "      <th></th>\n",
       "      <th></th>\n",
       "      <th></th>\n",
       "      <th></th>\n",
       "    </tr>\n",
       "  </thead>\n",
       "  <tbody>\n",
       "    <tr>\n",
       "      <th rowspan=\"6\" valign=\"top\">Female</th>\n",
       "      <th>9-11</th>\n",
       "      <td>0.113402</td>\n",
       "      <td>0.123711</td>\n",
       "      <td>0.412371</td>\n",
       "      <td>0.0</td>\n",
       "      <td>0.171821</td>\n",
       "      <td>0.075601</td>\n",
       "      <td>0.103093</td>\n",
       "    </tr>\n",
       "    <tr>\n",
       "      <th>&lt;9</th>\n",
       "      <td>0.091691</td>\n",
       "      <td>0.091691</td>\n",
       "      <td>0.424069</td>\n",
       "      <td>0.0</td>\n",
       "      <td>0.108883</td>\n",
       "      <td>0.088825</td>\n",
       "      <td>0.194842</td>\n",
       "    </tr>\n",
       "    <tr>\n",
       "      <th>College</th>\n",
       "      <td>0.110181</td>\n",
       "      <td>0.055788</td>\n",
       "      <td>0.577406</td>\n",
       "      <td>0.0</td>\n",
       "      <td>0.182706</td>\n",
       "      <td>0.016736</td>\n",
       "      <td>0.057183</td>\n",
       "    </tr>\n",
       "    <tr>\n",
       "      <th>HS/GED</th>\n",
       "      <td>0.121784</td>\n",
       "      <td>0.109777</td>\n",
       "      <td>0.413379</td>\n",
       "      <td>0.0</td>\n",
       "      <td>0.188679</td>\n",
       "      <td>0.041166</td>\n",
       "      <td>0.125214</td>\n",
       "    </tr>\n",
       "    <tr>\n",
       "      <th>Missing</th>\n",
       "      <td>0.000000</td>\n",
       "      <td>0.000000</td>\n",
       "      <td>0.000000</td>\n",
       "      <td>1.0</td>\n",
       "      <td>0.000000</td>\n",
       "      <td>0.000000</td>\n",
       "      <td>0.000000</td>\n",
       "    </tr>\n",
       "    <tr>\n",
       "      <th>Some college/AA</th>\n",
       "      <td>0.148678</td>\n",
       "      <td>0.099119</td>\n",
       "      <td>0.418502</td>\n",
       "      <td>0.0</td>\n",
       "      <td>0.210352</td>\n",
       "      <td>0.031938</td>\n",
       "      <td>0.091410</td>\n",
       "    </tr>\n",
       "    <tr>\n",
       "      <th rowspan=\"6\" valign=\"top\">Male</th>\n",
       "      <th>9-11</th>\n",
       "      <td>0.082386</td>\n",
       "      <td>0.125000</td>\n",
       "      <td>0.525568</td>\n",
       "      <td>0.0</td>\n",
       "      <td>0.190341</td>\n",
       "      <td>0.048295</td>\n",
       "      <td>0.028409</td>\n",
       "    </tr>\n",
       "    <tr>\n",
       "      <th>&lt;9</th>\n",
       "      <td>0.065359</td>\n",
       "      <td>0.111111</td>\n",
       "      <td>0.630719</td>\n",
       "      <td>0.0</td>\n",
       "      <td>0.088235</td>\n",
       "      <td>0.039216</td>\n",
       "      <td>0.065359</td>\n",
       "    </tr>\n",
       "    <tr>\n",
       "      <th>College</th>\n",
       "      <td>0.063174</td>\n",
       "      <td>0.069337</td>\n",
       "      <td>0.636364</td>\n",
       "      <td>0.0</td>\n",
       "      <td>0.187982</td>\n",
       "      <td>0.015408</td>\n",
       "      <td>0.027735</td>\n",
       "    </tr>\n",
       "    <tr>\n",
       "      <th>HS/GED</th>\n",
       "      <td>0.092869</td>\n",
       "      <td>0.114428</td>\n",
       "      <td>0.512438</td>\n",
       "      <td>0.0</td>\n",
       "      <td>0.210614</td>\n",
       "      <td>0.026534</td>\n",
       "      <td>0.043118</td>\n",
       "    </tr>\n",
       "    <tr>\n",
       "      <th>Missing</th>\n",
       "      <td>0.000000</td>\n",
       "      <td>0.000000</td>\n",
       "      <td>0.000000</td>\n",
       "      <td>1.0</td>\n",
       "      <td>0.000000</td>\n",
       "      <td>0.000000</td>\n",
       "      <td>0.000000</td>\n",
       "    </tr>\n",
       "    <tr>\n",
       "      <th>Some college/AA</th>\n",
       "      <td>0.115331</td>\n",
       "      <td>0.102672</td>\n",
       "      <td>0.530239</td>\n",
       "      <td>0.0</td>\n",
       "      <td>0.198312</td>\n",
       "      <td>0.018284</td>\n",
       "      <td>0.035162</td>\n",
       "    </tr>\n",
       "  </tbody>\n",
       "</table>\n",
       "</div>"
      ],
      "text/plain": [
       "Martial Statues         Divorced  Living w/partner   Married  Missing  \\\n",
       "Gender Education Level                                                  \n",
       "Female 9-11             0.113402          0.123711  0.412371      0.0   \n",
       "       <9               0.091691          0.091691  0.424069      0.0   \n",
       "       College          0.110181          0.055788  0.577406      0.0   \n",
       "       HS/GED           0.121784          0.109777  0.413379      0.0   \n",
       "       Missing          0.000000          0.000000  0.000000      1.0   \n",
       "       Some college/AA  0.148678          0.099119  0.418502      0.0   \n",
       "Male   9-11             0.082386          0.125000  0.525568      0.0   \n",
       "       <9               0.065359          0.111111  0.630719      0.0   \n",
       "       College          0.063174          0.069337  0.636364      0.0   \n",
       "       HS/GED           0.092869          0.114428  0.512438      0.0   \n",
       "       Missing          0.000000          0.000000  0.000000      1.0   \n",
       "       Some college/AA  0.115331          0.102672  0.530239      0.0   \n",
       "\n",
       "Martial Statues         Never married  Separated   Widowed  \n",
       "Gender Education Level                                      \n",
       "Female 9-11                  0.171821   0.075601  0.103093  \n",
       "       <9                    0.108883   0.088825  0.194842  \n",
       "       College               0.182706   0.016736  0.057183  \n",
       "       HS/GED                0.188679   0.041166  0.125214  \n",
       "       Missing               0.000000   0.000000  0.000000  \n",
       "       Some college/AA       0.210352   0.031938  0.091410  \n",
       "Male   9-11                  0.190341   0.048295  0.028409  \n",
       "       <9                    0.088235   0.039216  0.065359  \n",
       "       College               0.187982   0.015408  0.027735  \n",
       "       HS/GED                0.210614   0.026534  0.043118  \n",
       "       Missing               0.000000   0.000000  0.000000  \n",
       "       Some college/AA       0.198312   0.018284  0.035162  "
      ]
     },
     "execution_count": 42,
     "metadata": {},
     "output_type": "execute_result"
    }
   ],
   "source": [
    "db.groupby([\"Gender\", \"Education Level\", \"Martial Statues\"]).size().unstack().fillna(0).apply(lambda x: x/x.sum(), axis=1)"
   ]
  },
  {
   "cell_type": "code",
   "execution_count": 43,
   "id": "72c80e25",
   "metadata": {
    "execution": {
     "iopub.execute_input": "2023-07-06T10:56:06.329650Z",
     "iopub.status.busy": "2023-07-06T10:56:06.329329Z",
     "iopub.status.idle": "2023-07-06T10:56:06.722759Z",
     "shell.execute_reply": "2023-07-06T10:56:06.722141Z"
    },
    "papermill": {
     "duration": 0.411532,
     "end_time": "2023-07-06T10:56:06.724565",
     "exception": false,
     "start_time": "2023-07-06T10:56:06.313033",
     "status": "completed"
    },
    "tags": []
   },
   "outputs": [
    {
     "data": {
      "image/png": "[encoded data removed]",
      "text/plain": [
       "<Figure size 1200x400 with 1 Axes>"
      ]
     },
     "metadata": {},
     "output_type": "display_data"
    }
   ],
   "source": [
    "plt.figure(figsize=(12, 4))\n",
    "a = sns.boxplot(x = db['Martial Statues'], y =db.Age)"
   ]
  },
  {
   "cell_type": "markdown",
   "id": "b6720739",
   "metadata": {
    "papermill": {
     "duration": 0.014864,
     "end_time": "2023-07-06T10:56:06.754991",
     "exception": false,
     "start_time": "2023-07-06T10:56:06.740127",
     "status": "completed"
    },
    "tags": []
   },
   "source": [
    "# Confidence Intervlas"
   ]
  },
  {
   "cell_type": "markdown",
   "id": "45a900e5",
   "metadata": {
    "papermill": {
     "duration": 0.014486,
     "end_time": "2023-07-06T10:56:06.784576",
     "exception": false,
     "start_time": "2023-07-06T10:56:06.770090",
     "status": "completed"
    },
    "tags": []
   },
   "source": [
    "#### For our population proportions, we will analyze the difference of proportion between female and male smokers."
   ]
  },
  {
   "cell_type": "code",
   "execution_count": 44,
   "id": "04c449de",
   "metadata": {
    "execution": {
     "iopub.execute_input": "2023-07-06T10:56:06.816937Z",
     "iopub.status.busy": "2023-07-06T10:56:06.816118Z",
     "iopub.status.idle": "2023-07-06T10:56:06.829316Z",
     "shell.execute_reply": "2023-07-06T10:56:06.828020Z"
    },
    "papermill": {
     "duration": 0.031666,
     "end_time": "2023-07-06T10:56:06.831250",
     "exception": false,
     "start_time": "2023-07-06T10:56:06.799584",
     "status": "completed"
    },
    "tags": []
   },
   "outputs": [
    {
     "data": {
      "text/html": [
       "<div>\n",
       "<style scoped>\n",
       "    .dataframe tbody tr th:only-of-type {\n",
       "        vertical-align: middle;\n",
       "    }\n",
       "\n",
       "    .dataframe tbody tr th {\n",
       "        vertical-align: top;\n",
       "    }\n",
       "\n",
       "    .dataframe thead th {\n",
       "        text-align: right;\n",
       "    }\n",
       "</style>\n",
       "<table border=\"1\" class=\"dataframe\">\n",
       "  <thead>\n",
       "    <tr style=\"text-align: right;\">\n",
       "      <th></th>\n",
       "      <th>Proportion</th>\n",
       "      <th>Size</th>\n",
       "    </tr>\n",
       "    <tr>\n",
       "      <th>Gender</th>\n",
       "      <th></th>\n",
       "      <th></th>\n",
       "    </tr>\n",
       "  </thead>\n",
       "  <tbody>\n",
       "    <tr>\n",
       "      <th>Female</th>\n",
       "      <td>0.304435</td>\n",
       "      <td>2976</td>\n",
       "    </tr>\n",
       "    <tr>\n",
       "      <th>Male</th>\n",
       "      <td>0.512142</td>\n",
       "      <td>2759</td>\n",
       "    </tr>\n",
       "  </tbody>\n",
       "</table>\n",
       "</div>"
      ],
      "text/plain": [
       "        Proportion  Size\n",
       "Gender                  \n",
       "Female    0.304435  2976\n",
       "Male      0.512142  2759"
      ]
     },
     "execution_count": 44,
     "metadata": {},
     "output_type": "execute_result"
    }
   ],
   "source": [
    "dz = da.groupby(\"Gender\").Smoking.agg([lambda z : np.mean(z== 'Yes') , 'size'])\n",
    "dz.columns = [\"Proportion\", \"Size\"]\n",
    "dz"
   ]
  },
  {
   "cell_type": "markdown",
   "id": "65b2a5b4",
   "metadata": {
    "papermill": {
     "duration": 0.014957,
     "end_time": "2023-07-06T10:56:06.863260",
     "exception": false,
     "start_time": "2023-07-06T10:56:06.848303",
     "status": "completed"
    },
    "tags": []
   },
   "source": [
    "Now that we have the population proportions of male and female smokers, we can begin to calculate confidence intervals with level of signficance = 0.05 "
   ]
  },
  {
   "cell_type": "code",
   "execution_count": 45,
   "id": "42a5b403",
   "metadata": {
    "execution": {
     "iopub.execute_input": "2023-07-06T10:56:06.895328Z",
     "iopub.status.busy": "2023-07-06T10:56:06.894951Z",
     "iopub.status.idle": "2023-07-06T10:56:06.901524Z",
     "shell.execute_reply": "2023-07-06T10:56:06.900385Z"
    },
    "papermill": {
     "duration": 0.024844,
     "end_time": "2023-07-06T10:56:06.903168",
     "exception": false,
     "start_time": "2023-07-06T10:56:06.878324",
     "status": "completed"
    },
    "tags": []
   },
   "outputs": [
    {
     "data": {
      "text/plain": [
       "0.009516254762527675"
      ]
     },
     "execution_count": 45,
     "metadata": {},
     "output_type": "execute_result"
    }
   ],
   "source": [
    "#Getting the proprtion and the size men who smoke\n",
    "pm = dz.Proportion.Male\n",
    "nm = dz.Size.Male\n",
    "se_m = np.sqrt(pm * (1 - pm)/ nm) #Calculating standard error\n",
    "se_m"
   ]
  },
  {
   "cell_type": "code",
   "execution_count": 46,
   "id": "321cc773",
   "metadata": {
    "execution": {
     "iopub.execute_input": "2023-07-06T10:56:06.936447Z",
     "iopub.status.busy": "2023-07-06T10:56:06.935886Z",
     "iopub.status.idle": "2023-07-06T10:56:06.942114Z",
     "shell.execute_reply": "2023-07-06T10:56:06.940915Z"
    },
    "papermill": {
     "duration": 0.024866,
     "end_time": "2023-07-06T10:56:06.943829",
     "exception": false,
     "start_time": "2023-07-06T10:56:06.918963",
     "status": "completed"
    },
    "tags": []
   },
   "outputs": [
    {
     "data": {
      "text/plain": [
       "0.008435287344906213"
      ]
     },
     "execution_count": 46,
     "metadata": {},
     "output_type": "execute_result"
    }
   ],
   "source": [
    "#Getting the proprtion and the size women who smoke\n",
    "pf = dz.Proportion.Female\n",
    "nf = dz.Size.Female\n",
    "se_f = np.sqrt(pf * (1 - pf) / nf) ##Calculating standard error\n",
    "se_f"
   ]
  },
  {
   "cell_type": "code",
   "execution_count": 48,
   "id": "f9079229",
   "metadata": {
    "execution": {
     "iopub.execute_input": "2023-07-06T10:56:06.977184Z",
     "iopub.status.busy": "2023-07-06T10:56:06.976563Z",
     "iopub.status.idle": "2023-07-06T10:56:06.982647Z",
     "shell.execute_reply": "2023-07-06T10:56:06.981362Z"
    },
    "papermill": {
     "duration": 0.026014,
     "end_time": "2023-07-06T10:56:06.985224",
     "exception": false,
     "start_time": "2023-07-06T10:56:06.959210",
     "status": "completed"
    },
    "tags": []
   },
   "outputs": [
    {
     "data": {
      "text/plain": [
       "0.012716649609722899"
      ]
     },
     "execution_count": 48,
     "metadata": {},
     "output_type": "execute_result"
    }
   ],
   "source": [
    "#Calculating standard error difference\n",
    "se_diff = np.sqrt(se_f**2 + se_m**2)\n",
    "se_diff"
   ]
  },
  {
   "cell_type": "code",
   "execution_count": 49,
   "id": "cc1b92cc",
   "metadata": {
    "execution": {
     "iopub.execute_input": "2023-07-06T10:56:07.018217Z",
     "iopub.status.busy": "2023-07-06T10:56:07.017872Z",
     "iopub.status.idle": "2023-07-06T10:56:07.023251Z",
     "shell.execute_reply": "2023-07-06T10:56:07.022459Z"
    },
    "papermill": {
     "duration": 0.02361,
     "end_time": "2023-07-06T10:56:07.024916",
     "exception": false,
     "start_time": "2023-07-06T10:56:07.001306",
     "status": "completed"
    },
    "tags": []
   },
   "outputs": [
    {
     "data": {
      "text/plain": [
       "(0.18278196335791153, 0.2326312298280253)"
      ]
     },
     "execution_count": 49,
     "metadata": {},
     "output_type": "execute_result"
    }
   ],
   "source": [
    "#calculating the differnce of population and the lower & the upper bounds of the confidence intervals\n",
    "diff_pop = pm - pf\n",
    "lcb = diff_pop - 1.96 * se_diff\n",
    "ucb = diff_pop + 1.96 * se_diff\n",
    "(lcb, ucb)"
   ]
  },
  {
   "cell_type": "markdown",
   "id": "eda58464",
   "metadata": {
    "papermill": {
     "duration": 0.016174,
     "end_time": "2023-07-06T10:56:07.057464",
     "exception": false,
     "start_time": "2023-07-06T10:56:07.041290",
     "status": "completed"
    },
    "tags": []
   },
   "source": [
    "Based on the results, with 95% of confidence the population proportion of males wo smoke is 18% to 23% higher than \n",
    "the population proportion of women who smoke"
   ]
  },
  {
   "cell_type": "markdown",
   "id": "ddbbb82e",
   "metadata": {
    "papermill": {
     "duration": 0.015646,
     "end_time": "2023-07-06T10:56:07.089073",
     "exception": false,
     "start_time": "2023-07-06T10:56:07.073427",
     "status": "completed"
    },
    "tags": []
   },
   "source": [
    "#### Difference of the Two Population Means of body mass index of men vs women"
   ]
  },
  {
   "cell_type": "code",
   "execution_count": 50,
   "id": "ad005c4f",
   "metadata": {
    "execution": {
     "iopub.execute_input": "2023-07-06T10:56:07.123085Z",
     "iopub.status.busy": "2023-07-06T10:56:07.122182Z",
     "iopub.status.idle": "2023-07-06T10:56:07.137844Z",
     "shell.execute_reply": "2023-07-06T10:56:07.137097Z"
    },
    "papermill": {
     "duration": 0.034523,
     "end_time": "2023-07-06T10:56:07.139656",
     "exception": false,
     "start_time": "2023-07-06T10:56:07.105133",
     "status": "completed"
    },
    "tags": []
   },
   "outputs": [
    {
     "data": {
      "text/html": [
       "<div>\n",
       "<style scoped>\n",
       "    .dataframe tbody tr th:only-of-type {\n",
       "        vertical-align: middle;\n",
       "    }\n",
       "\n",
       "    .dataframe tbody tr th {\n",
       "        vertical-align: top;\n",
       "    }\n",
       "\n",
       "    .dataframe thead th {\n",
       "        text-align: right;\n",
       "    }\n",
       "</style>\n",
       "<table border=\"1\" class=\"dataframe\">\n",
       "  <thead>\n",
       "    <tr style=\"text-align: right;\">\n",
       "      <th></th>\n",
       "      <th>Mean</th>\n",
       "      <th>Std</th>\n",
       "      <th>Size</th>\n",
       "    </tr>\n",
       "    <tr>\n",
       "      <th>Gender</th>\n",
       "      <th></th>\n",
       "      <th></th>\n",
       "      <th></th>\n",
       "    </tr>\n",
       "  </thead>\n",
       "  <tbody>\n",
       "    <tr>\n",
       "      <th>Female</th>\n",
       "      <td>29.939946</td>\n",
       "      <td>7.753319</td>\n",
       "      <td>2976</td>\n",
       "    </tr>\n",
       "    <tr>\n",
       "      <th>Male</th>\n",
       "      <td>28.778072</td>\n",
       "      <td>6.252568</td>\n",
       "      <td>2759</td>\n",
       "    </tr>\n",
       "  </tbody>\n",
       "</table>\n",
       "</div>"
      ],
      "text/plain": [
       "             Mean       Std  Size\n",
       "Gender                           \n",
       "Female  29.939946  7.753319  2976\n",
       "Male    28.778072  6.252568  2759"
      ]
     },
     "execution_count": 50,
     "metadata": {},
     "output_type": "execute_result"
    }
   ],
   "source": [
    "dz2 = da.groupby(\"Gender\").agg({\"BMI\": [np.mean, np.std, np.size]})\n",
    "dz2.columns = [\"Mean\", 'Std', \"Size\"]\n",
    "dz2"
   ]
  },
  {
   "cell_type": "code",
   "execution_count": 51,
   "id": "b77c65e8",
   "metadata": {
    "execution": {
     "iopub.execute_input": "2023-07-06T10:56:07.174388Z",
     "iopub.status.busy": "2023-07-06T10:56:07.173724Z",
     "iopub.status.idle": "2023-07-06T10:56:07.183265Z",
     "shell.execute_reply": "2023-07-06T10:56:07.181905Z"
    },
    "papermill": {
     "duration": 0.029507,
     "end_time": "2023-07-06T10:56:07.185679",
     "exception": false,
     "start_time": "2023-07-06T10:56:07.156172",
     "status": "completed"
    },
    "tags": []
   },
   "outputs": [
    {
     "data": {
      "text/plain": [
       "(0.14212522940758335, 0.11903715722332031)"
      ]
     },
     "execution_count": 51,
     "metadata": {},
     "output_type": "execute_result"
    }
   ],
   "source": [
    "m_mean , m_std , m_size = dz2.Mean.Male , dz2.Std.Male , dz2.Size.Male\n",
    "f_mean , f_std , f_size = dz2.Mean.Female , dz2.Std.Female , dz2.Size.Female\n",
    "\n",
    "sem_male = m_std / np.sqrt(m_size)\n",
    "sem_female = f_std / np.sqrt(f_size)\n",
    "(sem_female, sem_male)"
   ]
  },
  {
   "cell_type": "code",
   "execution_count": 52,
   "id": "47940771",
   "metadata": {
    "execution": {
     "iopub.execute_input": "2023-07-06T10:56:07.219916Z",
     "iopub.status.busy": "2023-07-06T10:56:07.218984Z",
     "iopub.status.idle": "2023-07-06T10:56:07.224717Z",
     "shell.execute_reply": "2023-07-06T10:56:07.223788Z"
    },
    "papermill": {
     "duration": 0.024977,
     "end_time": "2023-07-06T10:56:07.226964",
     "exception": false,
     "start_time": "2023-07-06T10:56:07.201987",
     "status": "completed"
    },
    "tags": []
   },
   "outputs": [
    {
     "data": {
      "text/plain": [
       "0.18538992862064452"
      ]
     },
     "execution_count": 52,
     "metadata": {},
     "output_type": "execute_result"
    }
   ],
   "source": [
    "sem_diff = np.sqrt(sem_female**2 + sem_male**2)\n",
    "sem_diff"
   ]
  },
  {
   "cell_type": "code",
   "execution_count": 53,
   "id": "5e53624c",
   "metadata": {
    "execution": {
     "iopub.execute_input": "2023-07-06T10:56:07.262300Z",
     "iopub.status.busy": "2023-07-06T10:56:07.261676Z",
     "iopub.status.idle": "2023-07-06T10:56:07.267268Z",
     "shell.execute_reply": "2023-07-06T10:56:07.266338Z"
    },
    "papermill": {
     "duration": 0.024717,
     "end_time": "2023-07-06T10:56:07.268882",
     "exception": false,
     "start_time": "2023-07-06T10:56:07.244165",
     "status": "completed"
    },
    "tags": []
   },
   "outputs": [
    {
     "data": {
      "text/plain": [
       "(0.798509280230502, 1.5252378004234286)"
      ]
     },
     "execution_count": 53,
     "metadata": {},
     "output_type": "execute_result"
    }
   ],
   "source": [
    "diff_mean = f_mean - m_mean\n",
    "lcb = diff_mean - 1.96 * sem_diff\n",
    "ucb = diff_mean + 1.96 * sem_diff\n",
    "(lcb, ucb)"
   ]
  },
  {
   "cell_type": "markdown",
   "id": "99c674d1",
   "metadata": {
    "papermill": {
     "duration": 0.015921,
     "end_time": "2023-07-06T10:56:07.301440",
     "exception": false,
     "start_time": "2023-07-06T10:56:07.285519",
     "status": "completed"
    },
    "tags": []
   },
   "source": [
    "Based on the results, with 95% of confidence the population mean of BMI of females is 80% to 150% higher than \n",
    "the population mean of BMI of men "
   ]
  },
  {
   "cell_type": "markdown",
   "id": "da6392e8",
   "metadata": {
    "papermill": {
     "duration": 0.015713,
     "end_time": "2023-07-06T10:56:07.333128",
     "exception": false,
     "start_time": "2023-07-06T10:56:07.317415",
     "status": "completed"
    },
    "tags": []
   },
   "source": [
    "# Hypothsis testing"
   ]
  },
  {
   "cell_type": "code",
   "execution_count": 54,
   "id": "be362279",
   "metadata": {
    "execution": {
     "iopub.execute_input": "2023-07-06T10:56:07.367079Z",
     "iopub.status.busy": "2023-07-06T10:56:07.366511Z",
     "iopub.status.idle": "2023-07-06T10:56:07.373729Z",
     "shell.execute_reply": "2023-07-06T10:56:07.373069Z"
    },
    "papermill": {
     "duration": 0.02593,
     "end_time": "2023-07-06T10:56:07.375221",
     "exception": false,
     "start_time": "2023-07-06T10:56:07.349291",
     "status": "completed"
    },
    "tags": []
   },
   "outputs": [
    {
     "data": {
      "text/plain": [
       "Weight                     1.014183\n",
       "BMI                        1.109395\n",
       "Height                     0.082297\n",
       "Systolic Blood Preasure    1.040250\n",
       "dtype: float64"
      ]
     },
     "execution_count": 54,
     "metadata": {},
     "output_type": "execute_result"
    }
   ],
   "source": [
    "#the skewnnes of each column in the data\n",
    "da[quantatives.columns].skew()"
   ]
  },
  {
   "cell_type": "code",
   "execution_count": 55,
   "id": "a4a5bb89",
   "metadata": {
    "execution": {
     "iopub.execute_input": "2023-07-06T10:56:07.411176Z",
     "iopub.status.busy": "2023-07-06T10:56:07.410853Z",
     "iopub.status.idle": "2023-07-06T10:56:07.736362Z",
     "shell.execute_reply": "2023-07-06T10:56:07.735762Z"
    },
    "papermill": {
     "duration": 0.345614,
     "end_time": "2023-07-06T10:56:07.737918",
     "exception": false,
     "start_time": "2023-07-06T10:56:07.392304",
     "status": "completed"
    },
    "tags": []
   },
   "outputs": [
    {
     "data": {
      "image/png": "[encoded data removed]",
      "text/plain": [
       "<Figure size 640x480 with 1 Axes>"
      ]
     },
     "metadata": {},
     "output_type": "display_data"
    }
   ],
   "source": [
    "# reduces skewnnes\n",
    "wt_transformed = np.log(da['Weight'])\n",
    "sns.histplot(data=da , x = wt_transformed , kde = True);"
   ]
  },
  {
   "cell_type": "code",
   "execution_count": 56,
   "id": "50b611cc",
   "metadata": {
    "execution": {
     "iopub.execute_input": "2023-07-06T10:56:07.773326Z",
     "iopub.status.busy": "2023-07-06T10:56:07.772834Z",
     "iopub.status.idle": "2023-07-06T10:56:07.778346Z",
     "shell.execute_reply": "2023-07-06T10:56:07.777476Z"
    },
    "papermill": {
     "duration": 0.025235,
     "end_time": "2023-07-06T10:56:07.780182",
     "exception": false,
     "start_time": "2023-07-06T10:56:07.754947",
     "status": "completed"
    },
    "tags": []
   },
   "outputs": [
    {
     "data": {
      "text/plain": [
       "0.1995463386390263"
      ]
     },
     "execution_count": 56,
     "metadata": {},
     "output_type": "execute_result"
    }
   ],
   "source": [
    "wt_transformed.skew()"
   ]
  },
  {
   "cell_type": "code",
   "execution_count": 57,
   "id": "6218c932",
   "metadata": {
    "execution": {
     "iopub.execute_input": "2023-07-06T10:56:07.814322Z",
     "iopub.status.busy": "2023-07-06T10:56:07.813981Z",
     "iopub.status.idle": "2023-07-06T10:56:08.165986Z",
     "shell.execute_reply": "2023-07-06T10:56:08.164237Z"
    },
    "papermill": {
     "duration": 0.371302,
     "end_time": "2023-07-06T10:56:08.167857",
     "exception": false,
     "start_time": "2023-07-06T10:56:07.796555",
     "status": "completed"
    },
    "tags": []
   },
   "outputs": [
    {
     "name": "stdout",
     "output_type": "stream",
     "text": [
      "skewennes:  0.3533731786934371\n"
     ]
    },
    {
     "data": {
      "image/png": "[encoded data removed]",
      "text/plain": [
       "<Figure size 640x480 with 1 Axes>"
      ]
     },
     "metadata": {},
     "output_type": "display_data"
    }
   ],
   "source": [
    "bmi_transformed = np.log(da.BMI)\n",
    "print('skewennes: ' ,bmi_transformed.skew())\n",
    "sns.histplot(data=da , x = bmi_transformed , kde = True);"
   ]
  },
  {
   "cell_type": "code",
   "execution_count": 58,
   "id": "c592a861",
   "metadata": {
    "execution": {
     "iopub.execute_input": "2023-07-06T10:56:08.206834Z",
     "iopub.status.busy": "2023-07-06T10:56:08.206164Z",
     "iopub.status.idle": "2023-07-06T10:56:08.530475Z",
     "shell.execute_reply": "2023-07-06T10:56:08.529640Z"
    },
    "papermill": {
     "duration": 0.345231,
     "end_time": "2023-07-06T10:56:08.532186",
     "exception": false,
     "start_time": "2023-07-06T10:56:08.186955",
     "status": "completed"
    },
    "tags": []
   },
   "outputs": [
    {
     "name": "stdout",
     "output_type": "stream",
     "text": [
      "skewnness = 0.5237970506225819\n"
     ]
    },
    {
     "data": {
      "image/png": "[encoded data removed]",
      "text/plain": [
       "<Figure size 640x480 with 1 Axes>"
      ]
     },
     "metadata": {},
     "output_type": "display_data"
    }
   ],
   "source": [
    "syb_transformed = np.log(da['Systolic Blood Preasure'])\n",
    "sns.histplot(data=da , x = wt_transformed , kde = True);\n",
    "print('skewnness =', syb_transformed.skew())"
   ]
  },
  {
   "cell_type": "markdown",
   "id": "539f70dd",
   "metadata": {
    "papermill": {
     "duration": 0.018692,
     "end_time": "2023-07-06T10:56:08.568815",
     "exception": false,
     "start_time": "2023-07-06T10:56:08.550123",
     "status": "completed"
    },
    "tags": []
   },
   "source": [
    "#### It is important to note that the NHANES data are a \"complex survey\". The data are not an independent and representative sample from the target population. i will ignore this aspect of the data here, and analyze the NHANES data as if it were an independent and identically distributed sample from a population."
   ]
  },
  {
   "cell_type": "markdown",
   "id": "0236d6ce",
   "metadata": {
    "papermill": {
     "duration": 0.017965,
     "end_time": "2023-07-06T10:56:08.698994",
     "exception": false,
     "start_time": "2023-07-06T10:56:08.681029",
     "status": "completed"
    },
    "tags": []
   },
   "source": [
    "We find that the smoking rate for men is around 10 percentage points greater than the smoking rate for females, and this difference is statistically significant (the p-value is around 0.01)."
   ]
  },
  {
   "cell_type": "markdown",
   "id": "0d964fdd",
   "metadata": {
    "papermill": {
     "duration": 0.017786,
     "end_time": "2023-07-06T10:56:08.736252",
     "exception": false,
     "start_time": "2023-07-06T10:56:08.718466",
     "status": "completed"
    },
    "tags": []
   },
   "source": [
    "Result : t_value = 0.82, p_value = 0.41\n",
    "\n",
    "Conclusion The p_value is 0.45 which is bigger then significance value of 0.05 so I can not reject the null hypothesis. In other words, the female age 40-50 are not significantly obese and still considered as overweight."
   ]
  },
  {
   "cell_type": "markdown",
   "id": "83694d17",
   "metadata": {
    "papermill": {
     "duration": 0.017642,
     "end_time": "2023-07-06T10:56:08.773098",
     "exception": false,
     "start_time": "2023-07-06T10:56:08.755456",
     "status": "completed"
    },
    "tags": []
   },
   "source": [
    "# 7.Summary\n",
    "In summary, the dataset I use here relatively friendly and did not need too much intervention for data cleaning because it has no duplicated data and small number of missing values. Besides, the data are also large enough to analyse for various purpose. The distribution of data I used for BMI analysis are also mostly normally distributed or slightly-skewed which make it suitable for modelling.\n",
    "\n",
    "For further analysis and more accurate modelling, I would encourage to use more variables in the dataset to find more variables which are probably correlated with BMI. There are also some potential that these variables I did not use here were probably skewed and needed more feature engineering process\n"
   ]
  },
  {
   "cell_type": "code",
   "execution_count": null,
   "id": "fced9bbb",
   "metadata": {},
   "outputs": [],
   "source": []
  }
 ],
 "metadata": {
  "kernelspec": {
   "display_name": "Python 3",
   "language": "python",
   "name": "python3"
  },
  "language_info": {
   "codemirror_mode": {
    "name": "ipython",
    "version": 3
   },
   "file_extension": ".py",
   "mimetype": "text/x-python",
   "name": "python",
   "nbconvert_exporter": "python",
   "pygments_lexer": "ipython3",
   "version": "3.12.6"
  },
  "papermill": {
   "default_parameters": {},
   "duration": 16.118902,
   "end_time": "2023-07-06T10:56:09.747585",
   "environment_variables": {},
   "exception": null,
   "input_path": "__notebook__.ipynb",
   "output_path": "__notebook__.ipynb",
   "parameters": {},
   "start_time": "2023-07-06T10:55:53.628683",
   "version": "2.4.0"
  }
 },
 "nbformat": 4,
 "nbformat_minor": 5
}
